{
 "cells": [
  {
   "cell_type": "code",
   "execution_count": 19,
   "metadata": {},
   "outputs": [],
   "source": [
    "import pandas as pd\n",
    "import numpy as np"
   ]
  },
  {
   "cell_type": "code",
   "execution_count": 20,
   "metadata": {},
   "outputs": [],
   "source": [
    "import warnings\n",
    "warnings.filterwarnings('ignore')"
   ]
  },
  {
   "cell_type": "code",
   "execution_count": 21,
   "metadata": {},
   "outputs": [
    {
     "data": {
      "text/plain": [
       "(36791, 18)"
      ]
     },
     "execution_count": 21,
     "metadata": {},
     "output_type": "execute_result"
    }
   ],
   "source": [
    "df = pd.read_excel('../dataset/main.xlsx')\n",
    "df.shape"
   ]
  },
  {
   "cell_type": "code",
   "execution_count": 22,
   "metadata": {},
   "outputs": [],
   "source": [
    "#setup y(target) dan x(fitur)\n",
    "X = df[['likes','dislikes','comment_count','No_tags']] #fitur dapat disesuaikan\n",
    "y = df[['views']] #target\n",
    "\n",
    "from sklearn.model_selection import train_test_split\n",
    "X_train, X_test, y_train, y_test = train_test_split(X, y, test_size=0.3, random_state=42)"
   ]
  },
  {
   "cell_type": "code",
   "execution_count": 23,
   "metadata": {},
   "outputs": [],
   "source": [
    "#standarisai scale\n",
    "from sklearn.preprocessing import StandardScaler\n",
    "ss = StandardScaler()\n",
    "\n",
    "numerical_features = X.columns.to_list()\n",
    "for n in numerical_features:\n",
    "  scaler = ss.fit(X_train[[n]])\n",
    "  X_train[n] = scaler.transform(X_train[[n]])\n",
    "  X_test[n] = scaler.transform(X_test[[n]])\n",
    "  # scaler.to_pickle(filename)"
   ]
  },
  {
   "cell_type": "code",
   "execution_count": 24,
   "metadata": {},
   "outputs": [],
   "source": [
    " #Train linear regression\n",
    "from sklearn.linear_model import LinearRegression\n",
    "regressor = LinearRegression()\n",
    "regressor.fit(X_train, y_train)\n",
    "\n",
    "y_pred = regressor.predict(X_test)"
   ]
  },
  {
   "cell_type": "code",
   "execution_count": 25,
   "metadata": {},
   "outputs": [
    {
     "data": {
      "text/html": [
       "<div>\n",
       "<style scoped>\n",
       "    .dataframe tbody tr th:only-of-type {\n",
       "        vertical-align: middle;\n",
       "    }\n",
       "\n",
       "    .dataframe tbody tr th {\n",
       "        vertical-align: top;\n",
       "    }\n",
       "\n",
       "    .dataframe thead th {\n",
       "        text-align: right;\n",
       "    }\n",
       "</style>\n",
       "<table border=\"1\" class=\"dataframe\">\n",
       "  <thead>\n",
       "    <tr style=\"text-align: right;\">\n",
       "      <th></th>\n",
       "      <th>likes</th>\n",
       "      <th>dislikes</th>\n",
       "      <th>comment_count</th>\n",
       "      <th>No_tags</th>\n",
       "    </tr>\n",
       "  </thead>\n",
       "  <tbody>\n",
       "    <tr>\n",
       "      <th>3792</th>\n",
       "      <td>-0.255827</td>\n",
       "      <td>-0.084666</td>\n",
       "      <td>-0.157930</td>\n",
       "      <td>0.305587</td>\n",
       "    </tr>\n",
       "    <tr>\n",
       "      <th>13480</th>\n",
       "      <td>-0.245546</td>\n",
       "      <td>-0.030243</td>\n",
       "      <td>-0.103442</td>\n",
       "      <td>-1.123779</td>\n",
       "    </tr>\n",
       "    <tr>\n",
       "      <th>21110</th>\n",
       "      <td>-0.260685</td>\n",
       "      <td>-0.080508</td>\n",
       "      <td>-0.168963</td>\n",
       "      <td>-1.225877</td>\n",
       "    </tr>\n",
       "    <tr>\n",
       "      <th>35549</th>\n",
       "      <td>-0.246378</td>\n",
       "      <td>-0.096208</td>\n",
       "      <td>-0.141243</td>\n",
       "      <td>-0.000706</td>\n",
       "    </tr>\n",
       "    <tr>\n",
       "      <th>2952</th>\n",
       "      <td>-0.275361</td>\n",
       "      <td>-0.091802</td>\n",
       "      <td>-0.178567</td>\n",
       "      <td>0.101392</td>\n",
       "    </tr>\n",
       "  </tbody>\n",
       "</table>\n",
       "</div>"
      ],
      "text/plain": [
       "          likes  dislikes  comment_count   No_tags\n",
       "3792  -0.255827 -0.084666      -0.157930  0.305587\n",
       "13480 -0.245546 -0.030243      -0.103442 -1.123779\n",
       "21110 -0.260685 -0.080508      -0.168963 -1.225877\n",
       "35549 -0.246378 -0.096208      -0.141243 -0.000706\n",
       "2952  -0.275361 -0.091802      -0.178567  0.101392"
      ]
     },
     "execution_count": 25,
     "metadata": {},
     "output_type": "execute_result"
    }
   ],
   "source": [
    "X_test.head()"
   ]
  },
  {
   "cell_type": "code",
   "execution_count": 26,
   "metadata": {},
   "outputs": [
    {
     "name": "stdout",
     "output_type": "stream",
     "text": [
      "[1071162.8837417]\n"
     ]
    }
   ],
   "source": [
    "print(regressor.intercept_)"
   ]
  },
  {
   "cell_type": "code",
   "execution_count": 27,
   "metadata": {},
   "outputs": [
    {
     "data": {
      "text/plain": [
       "array([[419019.01007475],\n",
       "       [296382.45266886],\n",
       "       [241060.84068646],\n",
       "       ...,\n",
       "       [527398.9309909 ],\n",
       "       [349493.90853867],\n",
       "       [329109.05832755]])"
      ]
     },
     "execution_count": 27,
     "metadata": {},
     "output_type": "execute_result"
    }
   ],
   "source": [
    "y_pred"
   ]
  },
  {
   "cell_type": "code",
   "execution_count": 28,
   "metadata": {},
   "outputs": [
    {
     "name": "stdout",
     "output_type": "stream",
     "text": [
      "<class 'pandas.core.frame.DataFrame'>\n",
      "Index: 25753 entries, 23009 to 15795\n",
      "Data columns (total 4 columns):\n",
      " #   Column         Non-Null Count  Dtype  \n",
      "---  ------         --------------  -----  \n",
      " 0   likes          25753 non-null  float64\n",
      " 1   dislikes       25753 non-null  float64\n",
      " 2   comment_count  25753 non-null  float64\n",
      " 3   No_tags        25753 non-null  float64\n",
      "dtypes: float64(4)\n",
      "memory usage: 1006.0 KB\n"
     ]
    }
   ],
   "source": [
    "X_train.info()"
   ]
  },
  {
   "cell_type": "code",
   "execution_count": 31,
   "metadata": {},
   "outputs": [
    {
     "data": {
      "text/plain": [
       "Index(['likes', 'dislikes', 'comment_count', 'No_tags'], dtype='object')"
      ]
     },
     "execution_count": 31,
     "metadata": {},
     "output_type": "execute_result"
    }
   ],
   "source": [
    "X.columns"
   ]
  },
  {
   "cell_type": "code",
   "execution_count": 29,
   "metadata": {},
   "outputs": [
    {
     "data": {
      "text/plain": [
       "array([[2765212.87623676,  696126.82089744, -504607.69717225,\n",
       "         112955.50108942]])"
      ]
     },
     "execution_count": 29,
     "metadata": {},
     "output_type": "execute_result"
    }
   ],
   "source": [
    "regressor.coef_"
   ]
  },
  {
   "cell_type": "code",
   "execution_count": 30,
   "metadata": {},
   "outputs": [
    {
     "name": "stdout",
     "output_type": "stream",
     "text": [
      "RMSE (test): 1634492.3467801376\n",
      "RMSE (train): 1587665.0654531745\n",
      "MAPE (test): 1.8277406284538156\n",
      "MAPE (train): 1.9465243969587949\n",
      "r2 (test): 0.7476042361864546\n",
      "r2 (train): 0.7518341686010438\n",
      "r2 (cross-val test): 0.5250221741715304\n",
      "r2 (cross-val train): 0.7539354988423217\n"
     ]
    }
   ],
   "source": [
    "#check overfit/underfit\n",
    "from sklearn.metrics import mean_absolute_error, mean_squared_error, mean_absolute_percentage_error, r2_score\n",
    "from sklearn.model_selection import cross_validate\n",
    "\n",
    "def eval_regression(model):\n",
    "  y_pred = model.predict(X_test)\n",
    "  y_pred_train = model.predict(X_train)\n",
    "\n",
    "  print('RMSE (test): ' + str(mean_squared_error(y_test, y_pred, squared=False)))\n",
    "  print('RMSE (train): ' + str(mean_squared_error(y_train, y_pred_train, squared=False)))\n",
    "\n",
    "  print('MAPE (test): ' + str(mean_absolute_percentage_error(y_test, y_pred)))\n",
    "  print('MAPE (train): ' + str(mean_absolute_percentage_error(y_train, y_pred_train)))\n",
    "\n",
    "  print('r2 (test): ' + str(r2_score(y_test, y_pred)))\n",
    "  print('r2 (train): ' + str(r2_score(y_train, y_pred_train)))\n",
    "\n",
    "  # k-fold cross validation\n",
    "  score = cross_validate(model, X, y, cv=5, scoring='r2', return_train_score=True)\n",
    "  print('r2 (cross-val test): ' + str(score['test_score'].mean()))\n",
    "  print('r2 (cross-val train): ' + str(score['train_score'].mean()))\n",
    "\n",
    "eval_regression(regressor)"
   ]
  }
 ],
 "metadata": {
  "kernelspec": {
   "display_name": "Python 3",
   "language": "python",
   "name": "python3"
  },
  "language_info": {
   "codemirror_mode": {
    "name": "ipython",
    "version": 3
   },
   "file_extension": ".py",
   "mimetype": "text/x-python",
   "name": "python",
   "nbconvert_exporter": "python",
   "pygments_lexer": "ipython3",
   "version": "3.11.6"
  }
 },
 "nbformat": 4,
 "nbformat_minor": 2
}
