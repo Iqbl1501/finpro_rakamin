{
 "cells": [
  {
   "cell_type": "code",
   "execution_count": 6,
   "metadata": {},
   "outputs": [
    {
     "name": "stdout",
     "output_type": "stream",
     "text": [
      "<class 'pandas.core.frame.DataFrame'>\n",
      "RangeIndex: 381109 entries, 0 to 381108\n",
      "Data columns (total 8 columns):\n",
      " #   Column                          Non-Null Count   Dtype\n",
      "---  ------                          --------------   -----\n",
      " 0   Unnamed: 0                      381109 non-null  int64\n",
      " 1   Region_Code                     381109 non-null  int64\n",
      " 2   Previously_Insured              381109 non-null  int64\n",
      " 3   Vehicle_Damage                  381109 non-null  int64\n",
      " 4   Policy_Sales_Channel            381109 non-null  int64\n",
      " 5   Gender_Category                 381109 non-null  int64\n",
      " 6   Vehicle_Damage_Age_Interaction  381109 non-null  int64\n",
      " 7   Response                        381109 non-null  int64\n",
      "dtypes: int64(8)\n",
      "memory usage: 23.3 MB\n"
     ]
    }
   ],
   "source": [
    "import pandas as pd\n",
    "df = pd.read_csv('../../dataset/train_preprocessed_1.csv')\n",
    "kolom_yang_dihapus = ['Gender','Age', 'Driving_License', 'Vehicle_Age', 'Age_Bin', 'Age_Vehicle_Age_Interaction',\n",
    "                      'Annual_Premium','Vintage']\n",
    "df = df.drop(kolom_yang_dihapus, axis=1)\n",
    "df.info()"
   ]
  },
  {
   "cell_type": "code",
   "execution_count": 7,
   "metadata": {},
   "outputs": [
    {
     "data": {
      "text/html": [
       "<div>\n",
       "<style scoped>\n",
       "    .dataframe tbody tr th:only-of-type {\n",
       "        vertical-align: middle;\n",
       "    }\n",
       "\n",
       "    .dataframe tbody tr th {\n",
       "        vertical-align: top;\n",
       "    }\n",
       "\n",
       "    .dataframe thead th {\n",
       "        text-align: right;\n",
       "    }\n",
       "</style>\n",
       "<table border=\"1\" class=\"dataframe\">\n",
       "  <thead>\n",
       "    <tr style=\"text-align: right;\">\n",
       "      <th></th>\n",
       "      <th>Unnamed: 0</th>\n",
       "      <th>Region_Code</th>\n",
       "      <th>Previously_Insured</th>\n",
       "      <th>Vehicle_Damage</th>\n",
       "      <th>Policy_Sales_Channel</th>\n",
       "      <th>Gender_Category</th>\n",
       "      <th>Vehicle_Damage_Age_Interaction</th>\n",
       "      <th>Response</th>\n",
       "    </tr>\n",
       "  </thead>\n",
       "  <tbody>\n",
       "    <tr>\n",
       "      <th>0</th>\n",
       "      <td>0</td>\n",
       "      <td>52</td>\n",
       "      <td>0</td>\n",
       "      <td>1</td>\n",
       "      <td>126</td>\n",
       "      <td>7</td>\n",
       "      <td>3</td>\n",
       "      <td>1</td>\n",
       "    </tr>\n",
       "    <tr>\n",
       "      <th>1</th>\n",
       "      <td>1</td>\n",
       "      <td>44</td>\n",
       "      <td>0</td>\n",
       "      <td>0</td>\n",
       "      <td>126</td>\n",
       "      <td>4</td>\n",
       "      <td>0</td>\n",
       "      <td>0</td>\n",
       "    </tr>\n",
       "    <tr>\n",
       "      <th>2</th>\n",
       "      <td>2</td>\n",
       "      <td>52</td>\n",
       "      <td>0</td>\n",
       "      <td>1</td>\n",
       "      <td>126</td>\n",
       "      <td>8</td>\n",
       "      <td>3</td>\n",
       "      <td>1</td>\n",
       "    </tr>\n",
       "    <tr>\n",
       "      <th>3</th>\n",
       "      <td>3</td>\n",
       "      <td>35</td>\n",
       "      <td>1</td>\n",
       "      <td>0</td>\n",
       "      <td>38</td>\n",
       "      <td>2</td>\n",
       "      <td>0</td>\n",
       "      <td>0</td>\n",
       "    </tr>\n",
       "    <tr>\n",
       "      <th>4</th>\n",
       "      <td>4</td>\n",
       "      <td>39</td>\n",
       "      <td>1</td>\n",
       "      <td>0</td>\n",
       "      <td>38</td>\n",
       "      <td>5</td>\n",
       "      <td>0</td>\n",
       "      <td>0</td>\n",
       "    </tr>\n",
       "  </tbody>\n",
       "</table>\n",
       "</div>"
      ],
      "text/plain": [
       "   Unnamed: 0  Region_Code  Previously_Insured  Vehicle_Damage  \\\n",
       "0           0           52                   0               1   \n",
       "1           1           44                   0               0   \n",
       "2           2           52                   0               1   \n",
       "3           3           35                   1               0   \n",
       "4           4           39                   1               0   \n",
       "\n",
       "   Policy_Sales_Channel  Gender_Category  Vehicle_Damage_Age_Interaction  \\\n",
       "0                   126                7                               3   \n",
       "1                   126                4                               0   \n",
       "2                   126                8                               3   \n",
       "3                    38                2                               0   \n",
       "4                    38                5                               0   \n",
       "\n",
       "   Response  \n",
       "0         1  \n",
       "1         0  \n",
       "2         1  \n",
       "3         0  \n",
       "4         0  "
      ]
     },
     "execution_count": 7,
     "metadata": {},
     "output_type": "execute_result"
    }
   ],
   "source": [
    "df.head()"
   ]
  },
  {
   "cell_type": "markdown",
   "metadata": {},
   "source": [
    "Berdasarkan feature extraction maka fitur-fitur yang dapat di drop diantaranya adalah:\n",
    "1. Gender dan Gender Category = nilai korelasi Gender terhadap response 0,05 sedangkan Gender Category terhadap response 0,19, maka feature Gender di hapus dari data set.\n",
    "2. Age Bin & Age_Vehicle_Age_Interaction: Fitur ini mempunyai nilai korelasi Redundant terhadap Age yaitu 0.95, 0.89 maka fitur-fitur ini di hapus dari data set.\n",
    "3. Driving License: Bernilai korelasi yang sangat kecil terhadap feature manapun, maka feature tersebut di hapus dari data set.\n",
    "4. Vintage: Fitur ini tidak mempunyai nilai korelasi dengan feature mana pun, maka feature tersebut di hapus dari data set adapaun alasan lain berdasarkan plot datanya, data ini kami anggap sebagai data yang tidak sesuai dengan realnya.\n",
    "5. Vehicle_age: Policy_Sales_Channel dan Vehicle age memiliki nilai korelasi Redundant yaitu 0.79 , walaupun isi dari setiap feature tersebut berbeda konteks tapi nilai korelasinya tinggi, maka salah satu harus di hapus dari data set, yaitu Vehicle Age yang harus di hapus\n",
    "6.  Age: Policy_Sales_Channel dan age juga memiliki nilai yang redundant maka age juga harus di drop."
   ]
  }
 ],
 "metadata": {
  "kernelspec": {
   "display_name": "Python 3",
   "language": "python",
   "name": "python3"
  },
  "language_info": {
   "codemirror_mode": {
    "name": "ipython",
    "version": 3
   },
   "file_extension": ".py",
   "mimetype": "text/x-python",
   "name": "python",
   "nbconvert_exporter": "python",
   "pygments_lexer": "ipython3",
   "version": "3.11.6"
  }
 },
 "nbformat": 4,
 "nbformat_minor": 2
}
