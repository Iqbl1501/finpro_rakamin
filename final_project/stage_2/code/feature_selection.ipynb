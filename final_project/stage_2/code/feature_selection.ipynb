{
 "cells": [
  {
   "cell_type": "code",
   "execution_count": 2,
   "metadata": {},
   "outputs": [
    {
     "data": {
      "text/plain": [
       "<bound method DataFrame.info of         Unnamed: 0  Region_Code  Previously_Insured  Vehicle_Damage  \\\n",
       "0                0           52                   0               1   \n",
       "1                1           44                   0               0   \n",
       "2                2           52                   0               1   \n",
       "3                3           35                   1               0   \n",
       "4                4           39                   1               0   \n",
       "...            ...          ...                 ...             ...   \n",
       "381104      381104           12                   1               0   \n",
       "381105      381105           18                   1               0   \n",
       "381106      381106           13                   1               0   \n",
       "381107      381107           25                   0               1   \n",
       "381108      381108           40                   0               0   \n",
       "\n",
       "        Policy_Sales_Channel  Vintage  Gender_Category  \\\n",
       "0                        126      217                7   \n",
       "1                        126      183                4   \n",
       "2                        126       27                8   \n",
       "3                         38      203                2   \n",
       "4                         38       39                5   \n",
       "...                      ...      ...              ...   \n",
       "381104                   126       88                4   \n",
       "381105                    38      131                7   \n",
       "381106                    36      161                2   \n",
       "381107                   120       74                3   \n",
       "381108                   126      237                8   \n",
       "\n",
       "        Vehicle_Damage_Age_Interaction  Response  \n",
       "0                                    3         1  \n",
       "1                                    0         0  \n",
       "2                                    3         1  \n",
       "3                                    0         0  \n",
       "4                                    0         0  \n",
       "...                                ...       ...  \n",
       "381104                               0         0  \n",
       "381105                               0         0  \n",
       "381106                               0         0  \n",
       "381107                               4         0  \n",
       "381108                               0         0  \n",
       "\n",
       "[381109 rows x 9 columns]>"
      ]
     },
     "execution_count": 2,
     "metadata": {},
     "output_type": "execute_result"
    }
   ],
   "source": [
    "import pandas as pd\n",
    "df = pd.read_csv('../../dataset/train_preprocessed_1.csv')\n",
    "kolom_yang_dihapus = ['Gender','Age', 'Driving_License', 'Vehicle_Age', 'Age_Bin', 'Age_Vehicle_Age_Interaction',\n",
    "                      'Annual_Premium']\n",
    "df = df.drop(kolom_yang_dihapus, axis=1)\n",
    "df.info"
   ]
  },
  {
   "cell_type": "code",
   "execution_count": 3,
   "metadata": {},
   "outputs": [
    {
     "data": {
      "text/plain": [
       "<bound method NDFrame.head of         Unnamed: 0  Region_Code  Previously_Insured  Vehicle_Damage  \\\n",
       "0                0           52                   0               1   \n",
       "1                1           44                   0               0   \n",
       "2                2           52                   0               1   \n",
       "3                3           35                   1               0   \n",
       "4                4           39                   1               0   \n",
       "...            ...          ...                 ...             ...   \n",
       "381104      381104           12                   1               0   \n",
       "381105      381105           18                   1               0   \n",
       "381106      381106           13                   1               0   \n",
       "381107      381107           25                   0               1   \n",
       "381108      381108           40                   0               0   \n",
       "\n",
       "        Policy_Sales_Channel  Vintage  Gender_Category  \\\n",
       "0                        126      217                7   \n",
       "1                        126      183                4   \n",
       "2                        126       27                8   \n",
       "3                         38      203                2   \n",
       "4                         38       39                5   \n",
       "...                      ...      ...              ...   \n",
       "381104                   126       88                4   \n",
       "381105                    38      131                7   \n",
       "381106                    36      161                2   \n",
       "381107                   120       74                3   \n",
       "381108                   126      237                8   \n",
       "\n",
       "        Vehicle_Damage_Age_Interaction  Response  \n",
       "0                                    3         1  \n",
       "1                                    0         0  \n",
       "2                                    3         1  \n",
       "3                                    0         0  \n",
       "4                                    0         0  \n",
       "...                                ...       ...  \n",
       "381104                               0         0  \n",
       "381105                               0         0  \n",
       "381106                               0         0  \n",
       "381107                               4         0  \n",
       "381108                               0         0  \n",
       "\n",
       "[381109 rows x 9 columns]>"
      ]
     },
     "execution_count": 3,
     "metadata": {},
     "output_type": "execute_result"
    }
   ],
   "source": [
    "df.head"
   ]
  }
 ],
 "metadata": {
  "kernelspec": {
   "display_name": "Python 3",
   "language": "python",
   "name": "python3"
  },
  "language_info": {
   "codemirror_mode": {
    "name": "ipython",
    "version": 3
   },
   "file_extension": ".py",
   "mimetype": "text/x-python",
   "name": "python",
   "nbconvert_exporter": "python",
   "pygments_lexer": "ipython3",
   "version": "3.11.6"
  }
 },
 "nbformat": 4,
 "nbformat_minor": 2
}
