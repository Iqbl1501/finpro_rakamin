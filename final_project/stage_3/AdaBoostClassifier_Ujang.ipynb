{
 "cells": [
  {
   "cell_type": "code",
   "execution_count": 1,
   "id": "fc3ec127-4276-41c4-9594-4858d4fb7cce",
   "metadata": {},
   "outputs": [],
   "source": [
    "import warnings\n",
    "warnings.filterwarnings('ignore')"
   ]
  },
  {
   "cell_type": "markdown",
   "metadata": {},
   "source": [
    "## SpLit data Train_After_Selection"
   ]
  },
  {
   "cell_type": "code",
   "execution_count": 2,
   "id": "701f7d08-a1ee-4d74-ab93-23f938be0c29",
   "metadata": {},
   "outputs": [],
   "source": [
    "import pandas as pd\n",
    "df = pd.read_csv('../dataset/after_selection/train.csv')\n",
    "X = df.drop(columns=['Response'])\n",
    "y = df[['Response']]\n",
    "\n",
    "from sklearn.model_selection import train_test_split\n",
    "X_train, X_test, y_train, y_test = train_test_split(X, y, test_size=0.3, random_state=42)"
   ]
  },
  {
   "cell_type": "code",
   "execution_count": 3,
   "id": "7d9bbf9d-1851-4b2c-908a-9aeb63d0c576",
   "metadata": {},
   "outputs": [
    {
     "name": "stdout",
     "output_type": "stream",
     "text": [
      "<class 'pandas.core.frame.DataFrame'>\n",
      "Index: 63217 entries, 19573 to 15795\n",
      "Data columns (total 8 columns):\n",
      " #   Column                          Non-Null Count  Dtype  \n",
      "---  ------                          --------------  -----  \n",
      " 0   Driving_License                 63217 non-null  int64  \n",
      " 1   Region_Code                     63217 non-null  float64\n",
      " 2   Previously_Insured              63217 non-null  int64  \n",
      " 3   Vehicle_Age                     63217 non-null  int64  \n",
      " 4   Vehicle_Damage                  63217 non-null  int64  \n",
      " 5   Policy_Sales_Channel            63217 non-null  float64\n",
      " 6   Age_Bin                         63217 non-null  int64  \n",
      " 7   Vehicle_Damage_Age_Interaction  63217 non-null  int64  \n",
      "dtypes: float64(2), int64(6)\n",
      "memory usage: 4.3 MB\n"
     ]
    }
   ],
   "source": [
    "X_train.info()"
   ]
  },
  {
   "cell_type": "markdown",
   "metadata": {},
   "source": [
    "### Melihat distribusi data target"
   ]
  },
  {
   "cell_type": "code",
   "execution_count": 4,
   "metadata": {},
   "outputs": [
    {
     "data": {
      "text/plain": [
       "Response\n",
       "0    45155\n",
       "1    45155\n",
       "Name: count, dtype: int64"
      ]
     },
     "execution_count": 4,
     "metadata": {},
     "output_type": "execute_result"
    }
   ],
   "source": [
    "df.Response.value_counts(normalize=False)"
   ]
  },
  {
   "cell_type": "markdown",
   "metadata": {},
   "source": [
    "## model evaluasi dan feature importance"
   ]
  },
  {
   "cell_type": "code",
   "execution_count": 26,
   "metadata": {},
   "outputs": [],
   "source": [
    "from sklearn.metrics import accuracy_score, precision_score, recall_score, f1_score, roc_auc_score\n",
    "from sklearn.model_selection import cross_validate, StratifiedKFold\n",
    "\n",
    "def eval_classification(model, X_train, X_test, y_train, y_test, n_splits=5):\n",
    "    y_pred_train = model.predict(X_train)\n",
    "    y_pred_test = model.predict(X_test)\n",
    "    y_pred_proba_train = model.predict_proba(X_train)\n",
    "    y_pred_proba_test = model.predict_proba(X_test)\n",
    "    # StratifiedKFold for cross-validation with stratified sampling\n",
    "    cv = StratifiedKFold(n_splits=n_splits, shuffle=True, random_state=42)\n",
    "    # Perform cross-validation\n",
    "    cv_test_results = cross_validate(model, X_test, y_test, scoring=['roc_auc'],\n",
    "                                cv=cv, return_train_score=False)\n",
    "    cv_train_results = cross_validate(model, X_train, y_train, scoring=['roc_auc'],\n",
    "                                cv=cv, return_train_score=False)\n",
    "    \n",
    "    # Evaluation train\n",
    "    print(\"\\nTraining Set:\")\n",
    "    print(\"Accuracy: %.2f\" % accuracy_score(y_train, y_pred_train))\n",
    "    print(\"Precision: %.2f\" % precision_score(y_train, y_pred_train))\n",
    "    print(\"Recall: %.2f\" % recall_score(y_train, y_pred_train))\n",
    "    print(\"F1-Score: %.2f\" % f1_score(y_train, y_pred_train))\n",
    "    print(\"ROC AUC: %.2f\" % roc_auc_score(y_train, y_pred_proba_train[:, 1]))\n",
    "    \n",
    "    # Evaluation test\n",
    "    print(\"\\nTest Set:\")\n",
    "    print(\"Accuracy: %.2f\" % accuracy_score(y_test, y_pred_test))\n",
    "    print(\"Precision: %.2f\" % precision_score(y_test, y_pred_test))\n",
    "    print(\"Recall: %.2f\" % recall_score(y_test, y_pred_test))\n",
    "    print(\"F1-Score: %.2f\" % f1_score(y_test, y_pred_test))\n",
    "    print(\"ROC AUC: %.2f\" % roc_auc_score(y_test, y_pred_proba_test[:, 1]))\n",
    "\n",
    "    # Display cross-validation results\n",
    "    print(\"\\nMetrics Using Cross Validation:\")\n",
    "    print(f\"Mean ROC-AUC (Test): {cv_test_results['test_roc_auc'].mean():.2f}\")\n",
    "    print(f\"Std ROC-AUC (Test): {cv_test_results['test_roc_auc'].std():.2f}\")\n",
    "    print()\n",
    "    print(f\"Mean ROC-AUC (Train): {cv_train_results['test_roc_auc'].mean():.2f}\")\n",
    "    print(f\"Std ROC-AUC (Train): {cv_train_results['test_roc_auc'].std():.2f}\")\n",
    "\n",
    "def show_feature_importance(model):\n",
    "    feat_importances = pd.Series(model.feature_importances_, index=X.columns)\n",
    "    ax = feat_importances.nlargest(25).plot(kind='barh', figsize=(10, 8))\n",
    "    ax.invert_yaxis()\n",
    "\n",
    "    plt.xlabel('score')\n",
    "    plt.ylabel('feature')\n",
    "    plt.title('feature importance score')\n",
    "\n",
    "\n",
    "\n",
    "#"
   ]
  },
  {
   "cell_type": "markdown",
   "metadata": {},
   "source": [
    "## Model AdaBoostClassifier dan hasil prediksi"
   ]
  },
  {
   "cell_type": "code",
   "execution_count": 15,
   "id": "7c03c99b-36d9-4c56-b191-fbbe69560ed1",
   "metadata": {},
   "outputs": [
    {
     "name": "stdout",
     "output_type": "stream",
     "text": [
      "Training Set:\n",
      "Accuracy: 0.80\n",
      "Precision: 0.73\n",
      "Recall: 0.95\n",
      "F1-Score: 0.82\n",
      "ROC AUC: 0.85\n",
      "\n",
      "Test Set:\n",
      "Accuracy: 0.80\n",
      "Precision: 0.73\n",
      "Recall: 0.95\n",
      "F1-Score: 0.82\n",
      "ROC AUC: 0.84\n",
      "\n",
      "Metrics Using Cross Validation:\n",
      "Mean ROC-AUC (Test): 0.84\n",
      "Std ROC-AUC (Test): 0.00\n",
      "\n",
      "Mean ROC-AUC (Train): 0.85\n",
      "Std ROC-AUC (Train): 0.00\n"
     ]
    }
   ],
   "source": [
    "import numpy as np\n",
    "from matplotlib import pyplot as plt\n",
    "from sklearn.ensemble import AdaBoostClassifier\n",
    "clf = AdaBoostClassifier()\n",
    "clf.fit(X_train, y_train)\n",
    "eval_classification(clf,X_train, X_test, y_train, y_test)"
   ]
  },
  {
   "cell_type": "markdown",
   "metadata": {},
   "source": [
    "## Hyperparameter Tuning"
   ]
  },
  {
   "cell_type": "code",
   "execution_count": 27,
   "metadata": {},
   "outputs": [
    {
     "name": "stdout",
     "output_type": "stream",
     "text": [
      "Best Hyperparameters: {'n_estimators': 98, 'learning_rate': 0.016422110552763818, 'algorithm': 'SAMME'}\n",
      "\n",
      "Training Set:\n",
      "Accuracy: 0.76\n",
      "Precision: 0.68\n",
      "Recall: 1.00\n",
      "F1-Score: 0.81\n",
      "ROC AUC: 0.82\n",
      "\n",
      "Test Set:\n",
      "Accuracy: 0.76\n",
      "Precision: 0.67\n",
      "Recall: 1.00\n",
      "F1-Score: 0.80\n",
      "ROC AUC: 0.82\n",
      "\n",
      "Metrics Using Cross Validation:\n",
      "Mean ROC-AUC (Test): 0.81\n",
      "Std ROC-AUC (Test): 0.02\n",
      "\n",
      "Mean ROC-AUC (Train): 0.82\n",
      "Std ROC-AUC (Train): 0.00\n"
     ]
    }
   ],
   "source": [
    "from sklearn.model_selection import RandomizedSearchCV, GridSearchCV\n",
    "import numpy as np\n",
    "\n",
    "# List of hyperparameter\n",
    "hyperparameters = dict(n_estimators = [int(x) for x in np.linspace(start = 50, stop = 200, num = 200)],\n",
    "                       learning_rate = [float(x) for x in np.linspace(start = 0.001, stop = 0.1, num = 200)],  \n",
    "                       algorithm = ['SAMME', 'SAMME.R']\n",
    "                      )\n",
    "\n",
    "# Init model\n",
    "ab = AdaBoostClassifier(random_state=42)\n",
    "ab_tuned = RandomizedSearchCV(ab, hyperparameters, random_state=42, cv=5, scoring='recall')\n",
    "ab_tuned.fit(X_train,y_train)\n",
    "\n",
    "print(f'Best Hyperparameters: {ab_tuned.best_params_}')\n",
    "\n",
    "# Predict & Evaluation\n",
    "eval_classification(ab_tuned, X_train, X_test, y_train, y_test)"
   ]
  },
  {
   "cell_type": "code",
   "execution_count": 24,
   "metadata": {},
   "outputs": [
    {
     "name": "stdout",
     "output_type": "stream",
     "text": [
      "Best Hyperparameters: {'n_estimators': 98, 'learning_rate': 0.016422110552763818, 'algorithm': 'SAMME'}\n"
     ]
    }
   ],
   "source": [
    "\n",
    "print(f'Best Hyperparameters: {ab_tuned.best_params_}')\n"
   ]
  },
  {
   "cell_type": "code",
   "execution_count": 25,
   "metadata": {},
   "outputs": [],
   "source": [
    "eval_classification(ab_tuned, X_train, X_test, y_train, y_test)"
   ]
  },
  {
   "cell_type": "markdown",
   "metadata": {},
   "source": [
    "## Score Feature importance"
   ]
  },
  {
   "cell_type": "code",
   "execution_count": 8,
   "id": "47422733-23df-4081-9cc8-21031d4fb31d",
   "metadata": {},
   "outputs": [
    {
     "data": {
      "image/png": "[encoded data removed]",
      "text/plain": [
       "<Figure size 1000x800 with 1 Axes>"
      ]
     },
     "metadata": {},
     "output_type": "display_data"
    }
   ],
   "source": [
    "show_feature_importance(clf)"
   ]
  }
 ],
 "metadata": {
  "kernelspec": {
   "display_name": "Python 3 (ipykernel)",
   "language": "python",
   "name": "python3"
  },
  "language_info": {
   "codemirror_mode": {
    "name": "ipython",
    "version": 3
   },
   "file_extension": ".py",
   "mimetype": "text/x-python",
   "name": "python",
   "nbconvert_exporter": "python",
   "pygments_lexer": "ipython3",
   "version": "3.11.5"
  }
 },
 "nbformat": 4,
 "nbformat_minor": 5
}
