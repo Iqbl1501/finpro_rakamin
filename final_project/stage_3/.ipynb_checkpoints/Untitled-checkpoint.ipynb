{
 "cells": [
  {
   "cell_type": "code",
   "execution_count": 1,
   "id": "fc3ec127-4276-41c4-9594-4858d4fb7cce",
   "metadata": {},
   "outputs": [],
   "source": [
    "import warnings\n",
    "warnings.filterwarnings('ignore')"
   ]
  },
  {
   "cell_type": "code",
   "execution_count": 2,
   "id": "701f7d08-a1ee-4d74-ab93-23f938be0c29",
   "metadata": {},
   "outputs": [],
   "source": [
    "import pandas as pd\n",
    "df = pd.read_csv('train_after_selection.csv')\n",
    "X = df.drop(columns=['Response','Unnamed: 0.1','Unnamed: 0'])\n",
    "y = df[['Response']]\n",
    "\n",
    "from sklearn.model_selection import train_test_split\n",
    "X_train, X_test, y_train, y_test = train_test_split(X, y, test_size=0.3, random_state=42)"
   ]
  },
  {
   "cell_type": "code",
   "execution_count": 3,
   "id": "7d9bbf9d-1851-4b2c-908a-9aeb63d0c576",
   "metadata": {},
   "outputs": [
    {
     "name": "stdout",
     "output_type": "stream",
     "text": [
      "<class 'pandas.core.frame.DataFrame'>\n",
      "Index: 63217 entries, 19573 to 15795\n",
      "Data columns (total 8 columns):\n",
      " #   Column                          Non-Null Count  Dtype  \n",
      "---  ------                          --------------  -----  \n",
      " 0   Driving_License                 63217 non-null  int64  \n",
      " 1   Region_Code                     63217 non-null  float64\n",
      " 2   Previously_Insured              63217 non-null  int64  \n",
      " 3   Vehicle_Age                     63217 non-null  int64  \n",
      " 4   Vehicle_Damage                  63217 non-null  int64  \n",
      " 5   Policy_Sales_Channel            63217 non-null  float64\n",
      " 6   Age_Bin                         63217 non-null  int64  \n",
      " 7   Vehicle_Damage_Age_Interaction  63217 non-null  int64  \n",
      "dtypes: float64(2), int64(6)\n",
      "memory usage: 4.3 MB\n"
     ]
    }
   ],
   "source": [
    "X_train.info()"
   ]
  },
  {
   "cell_type": "code",
   "execution_count": 4,
   "id": "fe8592b9-1553-4924-bbb5-2a5b625c10f6",
   "metadata": {},
   "outputs": [],
   "source": [
    "from sklearn.metrics import accuracy_score, precision_score, recall_score, f1_score, roc_auc_score\n",
    "from sklearn.model_selection import cross_validate\n",
    "\n",
    "def eval_classification(model):\n",
    "    y_pred = model.predict(X_test)\n",
    "    y_pred_train = model.predict(X_train)\n",
    "    y_pred_proba = model.predict_proba(X_test)\n",
    "    y_pred_proba_train = model.predict_proba(X_train)\n",
    "    \n",
    "    print(\"Accuracy (Test Set): %.2f\" % accuracy_score(y_test, y_pred))\n",
    "    print(\"Precision (Test Set): %.2f\" % precision_score(y_test, y_pred))\n",
    "    print(\"Recall (Test Set): %.2f\" % recall_score(y_test, y_pred))\n",
    "    print(\"F1-Score (Test Set): %.2f\" % f1_score(y_test, y_pred))\n",
    "    \n",
    "    print(\"roc_auc (test-proba): %.2f\" % roc_auc_score(y_test, y_pred_proba[:, 1]))\n",
    "    print(\"roc_auc (train-proba): %.2f\" % roc_auc_score(y_train, y_pred_proba_train[:, 1]))\n",
    "\n",
    "def show_feature_importance(model):\n",
    "    feat_importances = pd.Series(model.feature_importances_, index=X.columns)\n",
    "    ax = feat_importances.nlargest(25).plot(kind='barh', figsize=(10, 8))\n",
    "    ax.invert_yaxis()\n",
    "\n",
    "    plt.xlabel('score')\n",
    "    plt.ylabel('feature')\n",
    "    plt.title('feature importance score')\n",
    "\n",
    "def show_best_hyperparameter(model):\n",
    "    print(model.best_estimator_.get_params())"
   ]
  },
  {
   "cell_type": "code",
   "execution_count": 5,
   "id": "7c03c99b-36d9-4c56-b191-fbbe69560ed1",
   "metadata": {},
   "outputs": [
    {
     "name": "stdout",
     "output_type": "stream",
     "text": [
      "Accuracy (Test Set): 0.80\n",
      "Precision (Test Set): 0.73\n",
      "Recall (Test Set): 0.95\n",
      "F1-Score (Test Set): 0.82\n",
      "roc_auc (test-proba): 0.84\n",
      "roc_auc (train-proba): 0.85\n"
     ]
    }
   ],
   "source": [
    "import numpy as np\n",
    "from matplotlib import pyplot as plt\n",
    "from sklearn.ensemble import AdaBoostClassifier\n",
    "clf = AdaBoostClassifier()\n",
    "clf.fit(X_train, y_train)\n",
    "eval_classification(clf)"
   ]
  },
  {
   "cell_type": "code",
   "execution_count": null,
   "id": "9dac2b26-8c7c-4f21-a470-5c75d068ce67",
   "metadata": {},
   "outputs": [],
   "source": [
    "from sklearn.model_selection import RandomizedSearchCV, GridSearchCV\n",
    "import numpy as np\n",
    "\n",
    "# List of hyperparameter\n",
    "hyperparameters = dict(n_estimators = [int(x) for x in np.linspace(start = 50, stop = 2000, num = 2000)], # Jumlah iterasi\n",
    "                       learning_rate = [float(x) for x in np.linspace(start = 0.001, stop = 0.1, num = 200)],  \n",
    "                       algorithm = ['SAMME', 'SAMME.R']\n",
    "                      )\n",
    "\n",
    "# Init model\n",
    "ab = AdaBoostClassifier(random_state=42)\n",
    "ab_tuned =  RandomizedSearchCV(ab, hyperparameters, random_state=42, cv=5, scoring='recall')\n",
    "ab_tuned.fit(X_train,y_train)\n",
    "\n",
    "# Predict & Evaluation\n",
    "eval_classification(ab_tuned)"
   ]
  },
  {
   "cell_type": "code",
   "execution_count": null,
   "id": "47422733-23df-4081-9cc8-21031d4fb31d",
   "metadata": {},
   "outputs": [],
   "source": [
    "show_feature_importance(ab_tuned)"
   ]
  },
  {
   "cell_type": "code",
   "execution_count": null,
   "id": "d658b158-9ed2-4389-8471-d3ad8d31d827",
   "metadata": {},
   "outputs": [],
   "source": [
    "show_best_hyperparameter(ab_tuned)"
   ]
  },
  {
   "cell_type": "code",
   "execution_count": null,
   "id": "9ede91fd-503f-4c1c-8e85-6d8b1019e928",
   "metadata": {},
   "outputs": [],
   "source": []
  }
 ],
 "metadata": {
  "kernelspec": {
   "display_name": "Python 3 (ipykernel)",
   "language": "python",
   "name": "python3"
  },
  "language_info": {
   "codemirror_mode": {
    "name": "ipython",
    "version": 3
   },
   "file_extension": ".py",
   "mimetype": "text/x-python",
   "name": "python",
   "nbconvert_exporter": "python",
   "pygments_lexer": "ipython3",
   "version": "3.11.5"
  }
 },
 "nbformat": 4,
 "nbformat_minor": 5
}
