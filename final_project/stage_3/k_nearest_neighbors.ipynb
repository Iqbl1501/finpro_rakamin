{
 "cells": [
  {
   "cell_type": "code",
   "execution_count": 1,
   "id": "1280449c",
   "metadata": {},
   "outputs": [],
   "source": [
    "import pandas as pd\n",
    "import numpy as np\n",
    "import seaborn as sns\n",
    "import matplotlib.pyplot as plt\n",
    "from sklearn.model_selection import train_test_split, cross_validate\n",
    "from sklearn.model_selection import RandomizedSearchCV\n",
    "from sklearn.metrics import accuracy_score, precision_score, recall_score, f1_score, roc_auc_score\n",
    "from sklearn.neighbors import KNeighborsClassifier"
   ]
  },
  {
   "cell_type": "code",
   "execution_count": 8,
   "id": "a784a3fc",
   "metadata": {},
   "outputs": [],
   "source": [
    "train = pd.read_csv(\"train.csv\")\n",
    "test = pd.read_csv(\"test.csv\")"
   ]
  },
  {
   "cell_type": "code",
   "execution_count": 9,
   "id": "ef089484",
   "metadata": {},
   "outputs": [
    {
     "data": {
      "text/html": [
       "<div>\n",
       "<style scoped>\n",
       "    .dataframe tbody tr th:only-of-type {\n",
       "        vertical-align: middle;\n",
       "    }\n",
       "\n",
       "    .dataframe tbody tr th {\n",
       "        vertical-align: top;\n",
       "    }\n",
       "\n",
       "    .dataframe thead th {\n",
       "        text-align: right;\n",
       "    }\n",
       "</style>\n",
       "<table border=\"1\" class=\"dataframe\">\n",
       "  <thead>\n",
       "    <tr style=\"text-align: right;\">\n",
       "      <th></th>\n",
       "      <th>Driving_License</th>\n",
       "      <th>Region_Code</th>\n",
       "      <th>Previously_Insured</th>\n",
       "      <th>Vehicle_Age</th>\n",
       "      <th>Vehicle_Damage</th>\n",
       "      <th>Policy_Sales_Channel</th>\n",
       "      <th>Age_Bin</th>\n",
       "      <th>Vehicle_Damage_Age_Interaction</th>\n",
       "      <th>Response</th>\n",
       "    </tr>\n",
       "  </thead>\n",
       "  <tbody>\n",
       "    <tr>\n",
       "      <th>0</th>\n",
       "      <td>1</td>\n",
       "      <td>46.0</td>\n",
       "      <td>1</td>\n",
       "      <td>0</td>\n",
       "      <td>0</td>\n",
       "      <td>152.0</td>\n",
       "      <td>0</td>\n",
       "      <td>0</td>\n",
       "      <td>0</td>\n",
       "    </tr>\n",
       "    <tr>\n",
       "      <th>1</th>\n",
       "      <td>1</td>\n",
       "      <td>46.0</td>\n",
       "      <td>1</td>\n",
       "      <td>0</td>\n",
       "      <td>0</td>\n",
       "      <td>152.0</td>\n",
       "      <td>0</td>\n",
       "      <td>0</td>\n",
       "      <td>0</td>\n",
       "    </tr>\n",
       "    <tr>\n",
       "      <th>2</th>\n",
       "      <td>1</td>\n",
       "      <td>46.0</td>\n",
       "      <td>1</td>\n",
       "      <td>1</td>\n",
       "      <td>1</td>\n",
       "      <td>26.0</td>\n",
       "      <td>2</td>\n",
       "      <td>2</td>\n",
       "      <td>0</td>\n",
       "    </tr>\n",
       "    <tr>\n",
       "      <th>3</th>\n",
       "      <td>1</td>\n",
       "      <td>18.0</td>\n",
       "      <td>1</td>\n",
       "      <td>0</td>\n",
       "      <td>0</td>\n",
       "      <td>152.0</td>\n",
       "      <td>1</td>\n",
       "      <td>0</td>\n",
       "      <td>0</td>\n",
       "    </tr>\n",
       "    <tr>\n",
       "      <th>4</th>\n",
       "      <td>1</td>\n",
       "      <td>11.0</td>\n",
       "      <td>0</td>\n",
       "      <td>1</td>\n",
       "      <td>1</td>\n",
       "      <td>122.0</td>\n",
       "      <td>2</td>\n",
       "      <td>2</td>\n",
       "      <td>0</td>\n",
       "    </tr>\n",
       "  </tbody>\n",
       "</table>\n",
       "</div>"
      ],
      "text/plain": [
       "   Driving_License  Region_Code  Previously_Insured  Vehicle_Age  \\\n",
       "0                1         46.0                   1            0   \n",
       "1                1         46.0                   1            0   \n",
       "2                1         46.0                   1            1   \n",
       "3                1         18.0                   1            0   \n",
       "4                1         11.0                   0            1   \n",
       "\n",
       "   Vehicle_Damage  Policy_Sales_Channel  Age_Bin  \\\n",
       "0               0                 152.0        0   \n",
       "1               0                 152.0        0   \n",
       "2               1                  26.0        2   \n",
       "3               0                 152.0        1   \n",
       "4               1                 122.0        2   \n",
       "\n",
       "   Vehicle_Damage_Age_Interaction  Response  \n",
       "0                               0         0  \n",
       "1                               0         0  \n",
       "2                               2         0  \n",
       "3                               0         0  \n",
       "4                               2         0  "
      ]
     },
     "execution_count": 9,
     "metadata": {},
     "output_type": "execute_result"
    }
   ],
   "source": [
    "train.head()"
   ]
  },
  {
   "cell_type": "code",
   "execution_count": 10,
   "id": "14dd9a18",
   "metadata": {},
   "outputs": [
    {
     "data": {
      "text/html": [
       "<div>\n",
       "<style scoped>\n",
       "    .dataframe tbody tr th:only-of-type {\n",
       "        vertical-align: middle;\n",
       "    }\n",
       "\n",
       "    .dataframe tbody tr th {\n",
       "        vertical-align: top;\n",
       "    }\n",
       "\n",
       "    .dataframe thead th {\n",
       "        text-align: right;\n",
       "    }\n",
       "</style>\n",
       "<table border=\"1\" class=\"dataframe\">\n",
       "  <thead>\n",
       "    <tr style=\"text-align: right;\">\n",
       "      <th></th>\n",
       "      <th>Driving_License</th>\n",
       "      <th>Region_Code</th>\n",
       "      <th>Previously_Insured</th>\n",
       "      <th>Vehicle_Age</th>\n",
       "      <th>Vehicle_Damage</th>\n",
       "      <th>Policy_Sales_Channel</th>\n",
       "      <th>Age_Bin</th>\n",
       "      <th>Vehicle_Damage_Age_Interaction</th>\n",
       "    </tr>\n",
       "  </thead>\n",
       "  <tbody>\n",
       "    <tr>\n",
       "      <th>0</th>\n",
       "      <td>1</td>\n",
       "      <td>11.0</td>\n",
       "      <td>1</td>\n",
       "      <td>0</td>\n",
       "      <td>0</td>\n",
       "      <td>152.0</td>\n",
       "      <td>0</td>\n",
       "      <td>0</td>\n",
       "    </tr>\n",
       "    <tr>\n",
       "      <th>1</th>\n",
       "      <td>1</td>\n",
       "      <td>28.0</td>\n",
       "      <td>0</td>\n",
       "      <td>1</td>\n",
       "      <td>1</td>\n",
       "      <td>7.0</td>\n",
       "      <td>0</td>\n",
       "      <td>0</td>\n",
       "    </tr>\n",
       "    <tr>\n",
       "      <th>2</th>\n",
       "      <td>1</td>\n",
       "      <td>28.0</td>\n",
       "      <td>0</td>\n",
       "      <td>1</td>\n",
       "      <td>1</td>\n",
       "      <td>124.0</td>\n",
       "      <td>0</td>\n",
       "      <td>0</td>\n",
       "    </tr>\n",
       "    <tr>\n",
       "      <th>3</th>\n",
       "      <td>1</td>\n",
       "      <td>27.0</td>\n",
       "      <td>1</td>\n",
       "      <td>0</td>\n",
       "      <td>1</td>\n",
       "      <td>152.0</td>\n",
       "      <td>0</td>\n",
       "      <td>0</td>\n",
       "    </tr>\n",
       "    <tr>\n",
       "      <th>4</th>\n",
       "      <td>1</td>\n",
       "      <td>28.0</td>\n",
       "      <td>1</td>\n",
       "      <td>0</td>\n",
       "      <td>0</td>\n",
       "      <td>152.0</td>\n",
       "      <td>0</td>\n",
       "      <td>0</td>\n",
       "    </tr>\n",
       "  </tbody>\n",
       "</table>\n",
       "</div>"
      ],
      "text/plain": [
       "   Driving_License  Region_Code  Previously_Insured  Vehicle_Age  \\\n",
       "0                1         11.0                   1            0   \n",
       "1                1         28.0                   0            1   \n",
       "2                1         28.0                   0            1   \n",
       "3                1         27.0                   1            0   \n",
       "4                1         28.0                   1            0   \n",
       "\n",
       "   Vehicle_Damage  Policy_Sales_Channel  Age_Bin  \\\n",
       "0               0                 152.0        0   \n",
       "1               1                   7.0        0   \n",
       "2               1                 124.0        0   \n",
       "3               1                 152.0        0   \n",
       "4               0                 152.0        0   \n",
       "\n",
       "   Vehicle_Damage_Age_Interaction  \n",
       "0                               0  \n",
       "1                               0  \n",
       "2                               0  \n",
       "3                               0  \n",
       "4                               0  "
      ]
     },
     "execution_count": 10,
     "metadata": {},
     "output_type": "execute_result"
    }
   ],
   "source": [
    "test.head()"
   ]
  },
  {
   "cell_type": "markdown",
   "id": "b03aa61d",
   "metadata": {},
   "source": [
    "### Separating features and target"
   ]
  },
  {
   "cell_type": "code",
   "execution_count": 11,
   "id": "f7311539",
   "metadata": {},
   "outputs": [],
   "source": [
    "y = train.pop(\"Response\") #response\n",
    "X = train #features"
   ]
  },
  {
   "cell_type": "code",
   "execution_count": 12,
   "id": "45bf69ec",
   "metadata": {},
   "outputs": [
    {
     "data": {
      "text/html": [
       "<div>\n",
       "<style scoped>\n",
       "    .dataframe tbody tr th:only-of-type {\n",
       "        vertical-align: middle;\n",
       "    }\n",
       "\n",
       "    .dataframe tbody tr th {\n",
       "        vertical-align: top;\n",
       "    }\n",
       "\n",
       "    .dataframe thead th {\n",
       "        text-align: right;\n",
       "    }\n",
       "</style>\n",
       "<table border=\"1\" class=\"dataframe\">\n",
       "  <thead>\n",
       "    <tr style=\"text-align: right;\">\n",
       "      <th></th>\n",
       "      <th>Driving_License</th>\n",
       "      <th>Region_Code</th>\n",
       "      <th>Previously_Insured</th>\n",
       "      <th>Vehicle_Age</th>\n",
       "      <th>Vehicle_Damage</th>\n",
       "      <th>Policy_Sales_Channel</th>\n",
       "      <th>Age_Bin</th>\n",
       "      <th>Vehicle_Damage_Age_Interaction</th>\n",
       "    </tr>\n",
       "  </thead>\n",
       "  <tbody>\n",
       "    <tr>\n",
       "      <th>0</th>\n",
       "      <td>1</td>\n",
       "      <td>46.0</td>\n",
       "      <td>1</td>\n",
       "      <td>0</td>\n",
       "      <td>0</td>\n",
       "      <td>152.0</td>\n",
       "      <td>0</td>\n",
       "      <td>0</td>\n",
       "    </tr>\n",
       "    <tr>\n",
       "      <th>1</th>\n",
       "      <td>1</td>\n",
       "      <td>46.0</td>\n",
       "      <td>1</td>\n",
       "      <td>0</td>\n",
       "      <td>0</td>\n",
       "      <td>152.0</td>\n",
       "      <td>0</td>\n",
       "      <td>0</td>\n",
       "    </tr>\n",
       "    <tr>\n",
       "      <th>2</th>\n",
       "      <td>1</td>\n",
       "      <td>46.0</td>\n",
       "      <td>1</td>\n",
       "      <td>1</td>\n",
       "      <td>1</td>\n",
       "      <td>26.0</td>\n",
       "      <td>2</td>\n",
       "      <td>2</td>\n",
       "    </tr>\n",
       "    <tr>\n",
       "      <th>3</th>\n",
       "      <td>1</td>\n",
       "      <td>18.0</td>\n",
       "      <td>1</td>\n",
       "      <td>0</td>\n",
       "      <td>0</td>\n",
       "      <td>152.0</td>\n",
       "      <td>1</td>\n",
       "      <td>0</td>\n",
       "    </tr>\n",
       "    <tr>\n",
       "      <th>4</th>\n",
       "      <td>1</td>\n",
       "      <td>11.0</td>\n",
       "      <td>0</td>\n",
       "      <td>1</td>\n",
       "      <td>1</td>\n",
       "      <td>122.0</td>\n",
       "      <td>2</td>\n",
       "      <td>2</td>\n",
       "    </tr>\n",
       "  </tbody>\n",
       "</table>\n",
       "</div>"
      ],
      "text/plain": [
       "   Driving_License  Region_Code  Previously_Insured  Vehicle_Age  \\\n",
       "0                1         46.0                   1            0   \n",
       "1                1         46.0                   1            0   \n",
       "2                1         46.0                   1            1   \n",
       "3                1         18.0                   1            0   \n",
       "4                1         11.0                   0            1   \n",
       "\n",
       "   Vehicle_Damage  Policy_Sales_Channel  Age_Bin  \\\n",
       "0               0                 152.0        0   \n",
       "1               0                 152.0        0   \n",
       "2               1                  26.0        2   \n",
       "3               0                 152.0        1   \n",
       "4               1                 122.0        2   \n",
       "\n",
       "   Vehicle_Damage_Age_Interaction  \n",
       "0                               0  \n",
       "1                               0  \n",
       "2                               2  \n",
       "3                               0  \n",
       "4                               2  "
      ]
     },
     "execution_count": 12,
     "metadata": {},
     "output_type": "execute_result"
    }
   ],
   "source": [
    "X.head()"
   ]
  },
  {
   "cell_type": "code",
   "execution_count": 13,
   "id": "bdf440c3",
   "metadata": {},
   "outputs": [
    {
     "data": {
      "text/plain": [
       "0    0\n",
       "1    0\n",
       "2    0\n",
       "3    0\n",
       "4    0\n",
       "Name: Response, dtype: int64"
      ]
     },
     "execution_count": 13,
     "metadata": {},
     "output_type": "execute_result"
    }
   ],
   "source": [
    "y.head()"
   ]
  },
  {
   "cell_type": "markdown",
   "id": "cd280b14",
   "metadata": {},
   "source": [
    "### Standardizing features"
   ]
  },
  {
   "cell_type": "markdown",
   "id": "87d4ebab",
   "metadata": {},
   "source": [
    "Karena algoritma k nearest neighbors berbasis perhitungan jarak antar data point, maka wajib melakukan standardisasi features agar semua features diberikan treatment yang sama rata."
   ]
  },
  {
   "cell_type": "code",
   "execution_count": 14,
   "id": "7b2195ad",
   "metadata": {},
   "outputs": [],
   "source": [
    "from sklearn.preprocessing import StandardScaler\n",
    "scaler = StandardScaler()\n",
    "scaler.fit(X)\n",
    "X_std = scaler.transform(X)"
   ]
  },
  {
   "cell_type": "code",
   "execution_count": 15,
   "id": "dfe0e722",
   "metadata": {},
   "outputs": [
    {
     "data": {
      "text/html": [
       "<div>\n",
       "<style scoped>\n",
       "    .dataframe tbody tr th:only-of-type {\n",
       "        vertical-align: middle;\n",
       "    }\n",
       "\n",
       "    .dataframe tbody tr th {\n",
       "        vertical-align: top;\n",
       "    }\n",
       "\n",
       "    .dataframe thead th {\n",
       "        text-align: right;\n",
       "    }\n",
       "</style>\n",
       "<table border=\"1\" class=\"dataframe\">\n",
       "  <thead>\n",
       "    <tr style=\"text-align: right;\">\n",
       "      <th></th>\n",
       "      <th>Driving_License</th>\n",
       "      <th>Region_Code</th>\n",
       "      <th>Previously_Insured</th>\n",
       "      <th>Vehicle_Age</th>\n",
       "      <th>Vehicle_Damage</th>\n",
       "      <th>Policy_Sales_Channel</th>\n",
       "      <th>Age_Bin</th>\n",
       "      <th>Vehicle_Damage_Age_Interaction</th>\n",
       "    </tr>\n",
       "  </thead>\n",
       "  <tbody>\n",
       "    <tr>\n",
       "      <th>count</th>\n",
       "      <td>9.031000e+04</td>\n",
       "      <td>9.031000e+04</td>\n",
       "      <td>9.031000e+04</td>\n",
       "      <td>9.031000e+04</td>\n",
       "      <td>9.031000e+04</td>\n",
       "      <td>9.031000e+04</td>\n",
       "      <td>9.031000e+04</td>\n",
       "      <td>9.031000e+04</td>\n",
       "    </tr>\n",
       "    <tr>\n",
       "      <th>mean</th>\n",
       "      <td>-3.991935e-16</td>\n",
       "      <td>1.200236e-16</td>\n",
       "      <td>-7.553106e-18</td>\n",
       "      <td>-1.192761e-16</td>\n",
       "      <td>1.117230e-16</td>\n",
       "      <td>1.278127e-16</td>\n",
       "      <td>5.192761e-17</td>\n",
       "      <td>1.346971e-16</td>\n",
       "    </tr>\n",
       "    <tr>\n",
       "      <th>std</th>\n",
       "      <td>1.000006e+00</td>\n",
       "      <td>1.000006e+00</td>\n",
       "      <td>1.000006e+00</td>\n",
       "      <td>1.000006e+00</td>\n",
       "      <td>1.000006e+00</td>\n",
       "      <td>1.000006e+00</td>\n",
       "      <td>1.000006e+00</td>\n",
       "      <td>1.000006e+00</td>\n",
       "    </tr>\n",
       "    <tr>\n",
       "      <th>min</th>\n",
       "      <td>-2.427471e+01</td>\n",
       "      <td>-2.086559e+00</td>\n",
       "      <td>-5.979592e-01</td>\n",
       "      <td>-1.329839e+00</td>\n",
       "      <td>-1.553782e+00</td>\n",
       "      <td>-1.844810e+00</td>\n",
       "      <td>-1.490855e+00</td>\n",
       "      <td>-1.125715e+00</td>\n",
       "    </tr>\n",
       "    <tr>\n",
       "      <th>25%</th>\n",
       "      <td>4.119514e-02</td>\n",
       "      <td>-8.318289e-01</td>\n",
       "      <td>-5.979592e-01</td>\n",
       "      <td>-1.329839e+00</td>\n",
       "      <td>-1.553782e+00</td>\n",
       "      <td>-1.396618e+00</td>\n",
       "      <td>-1.490855e+00</td>\n",
       "      <td>-1.125715e+00</td>\n",
       "    </tr>\n",
       "    <tr>\n",
       "      <th>50%</th>\n",
       "      <td>4.119514e-02</td>\n",
       "      <td>1.092183e-01</td>\n",
       "      <td>-5.979592e-01</td>\n",
       "      <td>4.457306e-01</td>\n",
       "      <td>6.435910e-01</td>\n",
       "      <td>3.602933e-01</td>\n",
       "      <td>-2.915363e-01</td>\n",
       "      <td>-1.638628e-02</td>\n",
       "    </tr>\n",
       "    <tr>\n",
       "      <th>75%</th>\n",
       "      <td>4.119514e-02</td>\n",
       "      <td>6.581626e-01</td>\n",
       "      <td>1.672355e+00</td>\n",
       "      <td>4.457306e-01</td>\n",
       "      <td>6.435910e-01</td>\n",
       "      <td>8.622681e-01</td>\n",
       "      <td>9.077824e-01</td>\n",
       "      <td>1.092943e+00</td>\n",
       "    </tr>\n",
       "    <tr>\n",
       "      <th>max</th>\n",
       "      <td>4.119514e-02</td>\n",
       "      <td>1.991313e+00</td>\n",
       "      <td>1.672355e+00</td>\n",
       "      <td>2.221300e+00</td>\n",
       "      <td>6.435910e-01</td>\n",
       "      <td>1.059472e+00</td>\n",
       "      <td>9.077824e-01</td>\n",
       "      <td>1.092943e+00</td>\n",
       "    </tr>\n",
       "  </tbody>\n",
       "</table>\n",
       "</div>"
      ],
      "text/plain": [
       "       Driving_License   Region_Code  Previously_Insured   Vehicle_Age  \\\n",
       "count     9.031000e+04  9.031000e+04        9.031000e+04  9.031000e+04   \n",
       "mean     -3.991935e-16  1.200236e-16       -7.553106e-18 -1.192761e-16   \n",
       "std       1.000006e+00  1.000006e+00        1.000006e+00  1.000006e+00   \n",
       "min      -2.427471e+01 -2.086559e+00       -5.979592e-01 -1.329839e+00   \n",
       "25%       4.119514e-02 -8.318289e-01       -5.979592e-01 -1.329839e+00   \n",
       "50%       4.119514e-02  1.092183e-01       -5.979592e-01  4.457306e-01   \n",
       "75%       4.119514e-02  6.581626e-01        1.672355e+00  4.457306e-01   \n",
       "max       4.119514e-02  1.991313e+00        1.672355e+00  2.221300e+00   \n",
       "\n",
       "       Vehicle_Damage  Policy_Sales_Channel       Age_Bin  \\\n",
       "count    9.031000e+04          9.031000e+04  9.031000e+04   \n",
       "mean     1.117230e-16          1.278127e-16  5.192761e-17   \n",
       "std      1.000006e+00          1.000006e+00  1.000006e+00   \n",
       "min     -1.553782e+00         -1.844810e+00 -1.490855e+00   \n",
       "25%     -1.553782e+00         -1.396618e+00 -1.490855e+00   \n",
       "50%      6.435910e-01          3.602933e-01 -2.915363e-01   \n",
       "75%      6.435910e-01          8.622681e-01  9.077824e-01   \n",
       "max      6.435910e-01          1.059472e+00  9.077824e-01   \n",
       "\n",
       "       Vehicle_Damage_Age_Interaction  \n",
       "count                    9.031000e+04  \n",
       "mean                     1.346971e-16  \n",
       "std                      1.000006e+00  \n",
       "min                     -1.125715e+00  \n",
       "25%                     -1.125715e+00  \n",
       "50%                     -1.638628e-02  \n",
       "75%                      1.092943e+00  \n",
       "max                      1.092943e+00  "
      ]
     },
     "execution_count": 15,
     "metadata": {},
     "output_type": "execute_result"
    }
   ],
   "source": [
    "#checking mean and standard distribution of the features after standardizing them\n",
    "\n",
    "standard_df = pd.DataFrame(data = X_std, columns = ['Driving_License','Region_Code','Previously_Insured','Vehicle_Age',\n",
    "                                                    'Vehicle_Damage','Policy_Sales_Channel','Age_Bin',\n",
    "                                                    'Vehicle_Damage_Age_Interaction'])\n",
    "standard_df.describe()"
   ]
  },
  {
   "cell_type": "markdown",
   "id": "cd6e650c",
   "metadata": {},
   "source": [
    "### Train test split"
   ]
  },
  {
   "cell_type": "code",
   "execution_count": 16,
   "id": "163bbcd3",
   "metadata": {},
   "outputs": [],
   "source": [
    "X_train, X_test, y_train, y_test = train_test_split(X_std, y, test_size=0.2, random_state=1)"
   ]
  },
  {
   "cell_type": "code",
   "execution_count": 25,
   "id": "ded0e669",
   "metadata": {},
   "outputs": [],
   "source": [
    "def eval_classification(model):\n",
    "    y_pred = model.predict(X_test)\n",
    "    y_pred_train = model.predict(X_train)\n",
    "    \n",
    "    print(\"Metrics for Test Set:\")\n",
    "    print(\"Accuracy (Test Set): %.2f\" % accuracy_score(y_test, y_pred))\n",
    "    print(\"Precision (Test Set): %.2f\" % precision_score(y_test, y_pred))\n",
    "    print(\"Recall (Test Set): %.2f\" % recall_score(y_test, y_pred))\n",
    "    print(\"F1-Score (Test Set): %.2f\" % f1_score(y_test, y_pred))\n",
    "    \n",
    "    cv_roc_auc = cross_validate(model, X_std, y, cv=5, scoring='roc_auc', return_train_score=True)\n",
    "    \n",
    "    print(\"Metrics Using Cross Validation:\")\n",
    "    print('Mean ROC-AUC (Test): '+ str(cv_roc_auc['test_score'].mean()))\n",
    "    print('Standard deviation ROC-AUC (Test): '+ str(cv_roc_auc['test_score'].std()))\n",
    "    \n",
    "    print('Mean ROC-AUC (Train): '+ str(cv_roc_auc['train_score'].mean()))\n",
    "    print('Standard deviation ROC-AUC (Train): '+ str(cv_roc_auc['train_score'].std()))"
   ]
  },
  {
   "cell_type": "code",
   "execution_count": 41,
   "id": "fe1f5346",
   "metadata": {},
   "outputs": [],
   "source": [
    "#evaluasi tanpa cross validation\n",
    "\n",
    "def eval_classification_func(model):\n",
    "    y_pred = model.predict(X_test)\n",
    "    y_pred_train = model.predict(X_train)\n",
    "\n",
    "    print(\"Accuracy (Test Set): %.2f\" % accuracy_score(y_test, y_pred))\n",
    "    print(\"Precision (Test Set): %.2f\" % precision_score(y_test, y_pred))\n",
    "    print(\"Recall (Test Set): %.2f\" % recall_score(y_test, y_pred))\n",
    "    print(\"F1-Score (Test Set): %.2f\" % f1_score(y_test, y_pred))\n",
    "\n",
    "    print(\"roc_auc (Test): %.2f\" % roc_auc_score(y_test, y_pred))\n",
    "    print(\"roc_auc (Train): %.2f\" % roc_auc_score(y_train, y_pred_train))"
   ]
  },
  {
   "cell_type": "code",
   "execution_count": 26,
   "id": "5c5c42cf",
   "metadata": {},
   "outputs": [
    {
     "name": "stdout",
     "output_type": "stream",
     "text": [
      "Metrics for Test Set:\n",
      "Accuracy (Test Set): 0.78\n",
      "Precision (Test Set): 0.73\n",
      "Recall (Test Set): 0.87\n",
      "F1-Score (Test Set): 0.80\n",
      "Metrics Using Cross Validation:\n",
      "Mean ROC-AUC (Test): 0.5516357975673574\n",
      "Standard deviation ROC-AUC (Test): 0.0015958711066472381\n",
      "Mean ROC-AUC (Train): 0.5657856819528391\n",
      "Standard deviation ROC-AUC (Train): 0.0008022936040659267\n"
     ]
    }
   ],
   "source": [
    "knn = KNeighborsClassifier()\n",
    "knn.fit(X_train, y_train)\n",
    "eval_classification(knn)"
   ]
  },
  {
   "cell_type": "markdown",
   "id": "799cda38",
   "metadata": {},
   "source": [
    "### Hyperparamater tuning"
   ]
  },
  {
   "cell_type": "code",
   "execution_count": 31,
   "id": "c377d9c4",
   "metadata": {},
   "outputs": [
    {
     "data": {
      "text/html": [
       "<style>#sk-container-id-2 {color: black;}#sk-container-id-2 pre{padding: 0;}#sk-container-id-2 div.sk-toggleable {background-color: white;}#sk-container-id-2 label.sk-toggleable__label {cursor: pointer;display: block;width: 100%;margin-bottom: 0;padding: 0.3em;box-sizing: border-box;text-align: center;}#sk-container-id-2 label.sk-toggleable__label-arrow:before {content: \"▸\";float: left;margin-right: 0.25em;color: #696969;}#sk-container-id-2 label.sk-toggleable__label-arrow:hover:before {color: black;}#sk-container-id-2 div.sk-estimator:hover label.sk-toggleable__label-arrow:before {color: black;}#sk-container-id-2 div.sk-toggleable__content {max-height: 0;max-width: 0;overflow: hidden;text-align: left;background-color: #f0f8ff;}#sk-container-id-2 div.sk-toggleable__content pre {margin: 0.2em;color: black;border-radius: 0.25em;background-color: #f0f8ff;}#sk-container-id-2 input.sk-toggleable__control:checked~div.sk-toggleable__content {max-height: 200px;max-width: 100%;overflow: auto;}#sk-container-id-2 input.sk-toggleable__control:checked~label.sk-toggleable__label-arrow:before {content: \"▾\";}#sk-container-id-2 div.sk-estimator input.sk-toggleable__control:checked~label.sk-toggleable__label {background-color: #d4ebff;}#sk-container-id-2 div.sk-label input.sk-toggleable__control:checked~label.sk-toggleable__label {background-color: #d4ebff;}#sk-container-id-2 input.sk-hidden--visually {border: 0;clip: rect(1px 1px 1px 1px);clip: rect(1px, 1px, 1px, 1px);height: 1px;margin: -1px;overflow: hidden;padding: 0;position: absolute;width: 1px;}#sk-container-id-2 div.sk-estimator {font-family: monospace;background-color: #f0f8ff;border: 1px dotted black;border-radius: 0.25em;box-sizing: border-box;margin-bottom: 0.5em;}#sk-container-id-2 div.sk-estimator:hover {background-color: #d4ebff;}#sk-container-id-2 div.sk-parallel-item::after {content: \"\";width: 100%;border-bottom: 1px solid gray;flex-grow: 1;}#sk-container-id-2 div.sk-label:hover label.sk-toggleable__label {background-color: #d4ebff;}#sk-container-id-2 div.sk-serial::before {content: \"\";position: absolute;border-left: 1px solid gray;box-sizing: border-box;top: 0;bottom: 0;left: 50%;z-index: 0;}#sk-container-id-2 div.sk-serial {display: flex;flex-direction: column;align-items: center;background-color: white;padding-right: 0.2em;padding-left: 0.2em;position: relative;}#sk-container-id-2 div.sk-item {position: relative;z-index: 1;}#sk-container-id-2 div.sk-parallel {display: flex;align-items: stretch;justify-content: center;background-color: white;position: relative;}#sk-container-id-2 div.sk-item::before, #sk-container-id-2 div.sk-parallel-item::before {content: \"\";position: absolute;border-left: 1px solid gray;box-sizing: border-box;top: 0;bottom: 0;left: 50%;z-index: -1;}#sk-container-id-2 div.sk-parallel-item {display: flex;flex-direction: column;z-index: 1;position: relative;background-color: white;}#sk-container-id-2 div.sk-parallel-item:first-child::after {align-self: flex-end;width: 50%;}#sk-container-id-2 div.sk-parallel-item:last-child::after {align-self: flex-start;width: 50%;}#sk-container-id-2 div.sk-parallel-item:only-child::after {width: 0;}#sk-container-id-2 div.sk-dashed-wrapped {border: 1px dashed gray;margin: 0 0.4em 0.5em 0.4em;box-sizing: border-box;padding-bottom: 0.4em;background-color: white;}#sk-container-id-2 div.sk-label label {font-family: monospace;font-weight: bold;display: inline-block;line-height: 1.2em;}#sk-container-id-2 div.sk-label-container {text-align: center;}#sk-container-id-2 div.sk-container {/* jupyter's `normalize.less` sets `[hidden] { display: none; }` but bootstrap.min.css set `[hidden] { display: none !important; }` so we also need the `!important` here to be able to override the default hidden behavior on the sphinx rendered scikit-learn.org. See: https://github.com/scikit-learn/scikit-learn/issues/21755 */display: inline-block !important;position: relative;}#sk-container-id-2 div.sk-text-repr-fallback {display: none;}</style><div id=\"sk-container-id-2\" class=\"sk-top-container\"><div class=\"sk-text-repr-fallback\"><pre>RandomizedSearchCV(cv=5, estimator=KNeighborsClassifier(),\n",
       "                   param_distributions={&#x27;algorithm&#x27;: [&#x27;auto&#x27;, &#x27;ball_tree&#x27;,\n",
       "                                                      &#x27;kd_tree&#x27;, &#x27;brute&#x27;],\n",
       "                                        &#x27;n_neighbors&#x27;: [1, 2, 3, 4, 5, 6, 7, 8,\n",
       "                                                        9, 10, 11, 12, 13, 14,\n",
       "                                                        15, 16, 17, 18, 19, 20,\n",
       "                                                        21, 22, 23, 24, 25, 26,\n",
       "                                                        27, 28, 29, 30, ...],\n",
       "                                        &#x27;p&#x27;: [1, 2]},\n",
       "                   random_state=45, scoring=&#x27;roc_auc&#x27;)</pre><b>In a Jupyter environment, please rerun this cell to show the HTML representation or trust the notebook. <br />On GitHub, the HTML representation is unable to render, please try loading this page with nbviewer.org.</b></div><div class=\"sk-container\" hidden><div class=\"sk-item sk-dashed-wrapped\"><div class=\"sk-label-container\"><div class=\"sk-label sk-toggleable\"><input class=\"sk-toggleable__control sk-hidden--visually\" id=\"sk-estimator-id-4\" type=\"checkbox\" ><label for=\"sk-estimator-id-4\" class=\"sk-toggleable__label sk-toggleable__label-arrow\">RandomizedSearchCV</label><div class=\"sk-toggleable__content\"><pre>RandomizedSearchCV(cv=5, estimator=KNeighborsClassifier(),\n",
       "                   param_distributions={&#x27;algorithm&#x27;: [&#x27;auto&#x27;, &#x27;ball_tree&#x27;,\n",
       "                                                      &#x27;kd_tree&#x27;, &#x27;brute&#x27;],\n",
       "                                        &#x27;n_neighbors&#x27;: [1, 2, 3, 4, 5, 6, 7, 8,\n",
       "                                                        9, 10, 11, 12, 13, 14,\n",
       "                                                        15, 16, 17, 18, 19, 20,\n",
       "                                                        21, 22, 23, 24, 25, 26,\n",
       "                                                        27, 28, 29, 30, ...],\n",
       "                                        &#x27;p&#x27;: [1, 2]},\n",
       "                   random_state=45, scoring=&#x27;roc_auc&#x27;)</pre></div></div></div><div class=\"sk-parallel\"><div class=\"sk-parallel-item\"><div class=\"sk-item\"><div class=\"sk-label-container\"><div class=\"sk-label sk-toggleable\"><input class=\"sk-toggleable__control sk-hidden--visually\" id=\"sk-estimator-id-5\" type=\"checkbox\" ><label for=\"sk-estimator-id-5\" class=\"sk-toggleable__label sk-toggleable__label-arrow\">estimator: KNeighborsClassifier</label><div class=\"sk-toggleable__content\"><pre>KNeighborsClassifier()</pre></div></div></div><div class=\"sk-serial\"><div class=\"sk-item\"><div class=\"sk-estimator sk-toggleable\"><input class=\"sk-toggleable__control sk-hidden--visually\" id=\"sk-estimator-id-6\" type=\"checkbox\" ><label for=\"sk-estimator-id-6\" class=\"sk-toggleable__label sk-toggleable__label-arrow\">KNeighborsClassifier</label><div class=\"sk-toggleable__content\"><pre>KNeighborsClassifier()</pre></div></div></div></div></div></div></div></div></div></div>"
      ],
      "text/plain": [
       "RandomizedSearchCV(cv=5, estimator=KNeighborsClassifier(),\n",
       "                   param_distributions={'algorithm': ['auto', 'ball_tree',\n",
       "                                                      'kd_tree', 'brute'],\n",
       "                                        'n_neighbors': [1, 2, 3, 4, 5, 6, 7, 8,\n",
       "                                                        9, 10, 11, 12, 13, 14,\n",
       "                                                        15, 16, 17, 18, 19, 20,\n",
       "                                                        21, 22, 23, 24, 25, 26,\n",
       "                                                        27, 28, 29, 30, ...],\n",
       "                                        'p': [1, 2]},\n",
       "                   random_state=45, scoring='roc_auc')"
      ]
     },
     "execution_count": 31,
     "metadata": {},
     "output_type": "execute_result"
    }
   ],
   "source": [
    "n_neighbors = list(range(1,51))\n",
    "p=[1,2]\n",
    "algorithm = ['auto', 'ball_tree', 'kd_tree', 'brute']\n",
    "hyperparameters = dict(n_neighbors=n_neighbors, p=p, algorithm=algorithm)\n",
    "\n",
    "knn = KNeighborsClassifier()\n",
    "randomized_search = RandomizedSearchCV(knn, hyperparameters, scoring='roc_auc', random_state=45, cv=5)\n",
    "randomized_search.fit(X_train, y_train)"
   ]
  },
  {
   "cell_type": "markdown",
   "id": "6ee311ae",
   "metadata": {},
   "source": [
    "### Best hyperparameter after tuning"
   ]
  },
  {
   "cell_type": "code",
   "execution_count": 34,
   "id": "8531cb79",
   "metadata": {},
   "outputs": [
    {
     "data": {
      "text/plain": [
       "{'algorithm': 'brute',\n",
       " 'leaf_size': 30,\n",
       " 'metric': 'minkowski',\n",
       " 'metric_params': None,\n",
       " 'n_jobs': None,\n",
       " 'n_neighbors': 43,\n",
       " 'p': 1,\n",
       " 'weights': 'uniform'}"
      ]
     },
     "execution_count": 34,
     "metadata": {},
     "output_type": "execute_result"
    }
   ],
   "source": [
    "randomized_search.best_estimator_.get_params()"
   ]
  },
  {
   "cell_type": "code",
   "execution_count": 35,
   "id": "f6b55802",
   "metadata": {},
   "outputs": [
    {
     "name": "stdout",
     "output_type": "stream",
     "text": [
      "Metrics for Test Set:\n",
      "Accuracy (Test Set): 0.80\n",
      "Precision (Test Set): 0.73\n",
      "Recall (Test Set): 0.94\n",
      "F1-Score (Test Set): 0.82\n",
      "Metrics Using Cross Validation:\n",
      "Mean ROC-AUC (Test): 0.6416010007778299\n",
      "Standard deviation ROC-AUC (Test): 0.0035782597563321465\n",
      "Mean ROC-AUC (Train): 0.6468413971243454\n",
      "Standard deviation ROC-AUC (Train): 0.0028485365536093576\n"
     ]
    }
   ],
   "source": [
    "#evaluasi dengan cross validation\n",
    "\n",
    "eval_classification(randomized_search.best_estimator_)"
   ]
  },
  {
   "cell_type": "code",
   "execution_count": 42,
   "id": "818b5671",
   "metadata": {},
   "outputs": [
    {
     "name": "stdout",
     "output_type": "stream",
     "text": [
      "Accuracy (Test Set): 0.80\n",
      "Precision (Test Set): 0.73\n",
      "Recall (Test Set): 0.94\n",
      "F1-Score (Test Set): 0.82\n",
      "roc_auc (Test): 0.80\n",
      "roc_auc (Train): 0.80\n"
     ]
    }
   ],
   "source": [
    "#evaluasi tanpa cross validation\n",
    "\n",
    "eval_classification_func(randomized_search.best_estimator_)"
   ]
  },
  {
   "cell_type": "markdown",
   "id": "9bb9df53",
   "metadata": {},
   "source": [
    "### Drawing and analyzing learning curve"
   ]
  },
  {
   "cell_type": "code",
   "execution_count": 36,
   "id": "b3ea6831",
   "metadata": {},
   "outputs": [
    {
     "name": "stdout",
     "output_type": "stream",
     "text": [
      "number of neighbors: 1; train: 0.7652014949873314; test: 0.7446496618507843\n",
      "number of neighbors: 2; train: 0.8216624499110778; test: 0.7974822145838628\n",
      "number of neighbors: 3; train: 0.8326272809084156; test: 0.8121180999964723\n",
      "number of neighbors: 4; train: 0.837885686662575; test: 0.814752505544557\n",
      "number of neighbors: 5; train: 0.8423402808222695; test: 0.8220016236871116\n",
      "number of neighbors: 6; train: 0.844281276750589; test: 0.8250831360145893\n",
      "number of neighbors: 7; train: 0.8451134451341406; test: 0.8253813992912625\n",
      "number of neighbors: 8; train: 0.8471056804561442; test: 0.8268967535416802\n",
      "number of neighbors: 9; train: 0.8480028673768394; test: 0.8288348088717374\n",
      "number of neighbors: 10; train: 0.8489400299828522; test: 0.831269254432663\n",
      "number of neighbors: 11; train: 0.850714840521124; test: 0.8335445510446773\n",
      "number of neighbors: 12; train: 0.8508275768428216; test: 0.8340805875102382\n",
      "number of neighbors: 13; train: 0.8509388529477426; test: 0.8346598320571521\n",
      "number of neighbors: 14; train: 0.850306111246991; test: 0.833073970408374\n",
      "number of neighbors: 15; train: 0.8503531355147868; test: 0.8340103682474943\n",
      "number of neighbors: 16; train: 0.8503486709527606; test: 0.83482495215692\n",
      "number of neighbors: 17; train: 0.8501820778821435; test: 0.8352362259006283\n",
      "number of neighbors: 18; train: 0.850162115327941; test: 0.8356260611283757\n",
      "number of neighbors: 19; train: 0.8494675958440466; test: 0.8352188212832955\n",
      "number of neighbors: 20; train: 0.8499156436867898; test: 0.8361962937740994\n",
      "number of neighbors: 21; train: 0.849639814446733; test: 0.8355161281949444\n",
      "number of neighbors: 22; train: 0.8502426728552128; test: 0.8360140449315248\n",
      "number of neighbors: 23; train: 0.8499064421370937; test: 0.83688223432667\n",
      "number of neighbors: 24; train: 0.8498700761873449; test: 0.8373747807058065\n",
      "number of neighbors: 25; train: 0.8498960662068095; test: 0.8377632365609227\n",
      "number of neighbors: 26; train: 0.8504608095473075; test: 0.8383755799204395\n",
      "number of neighbors: 27; train: 0.8501454383572755; test: 0.8381213646097883\n",
      "number of neighbors: 28; train: 0.8505876188949804; test: 0.8385315593775716\n",
      "number of neighbors: 29; train: 0.8513596030512995; test: 0.8391208948016007\n",
      "number of neighbors: 30; train: 0.8512576522562478; test: 0.8390455136199437\n",
      "number of neighbors: 31; train: 0.8512613991625346; test: 0.839206691779259\n",
      "number of neighbors: 32; train: 0.8510124308610536; test: 0.8386558500474571\n",
      "number of neighbors: 33; train: 0.8506960634591039; test: 0.8393984368360811\n",
      "number of neighbors: 34; train: 0.8509377157335225; test: 0.8395549006062704\n",
      "number of neighbors: 35; train: 0.8505295121527554; test: 0.8395087927771194\n",
      "number of neighbors: 36; train: 0.8510749807084328; test: 0.8397521938063421\n",
      "number of neighbors: 37; train: 0.8518826725483182; test: 0.8398667920845395\n",
      "number of neighbors: 38; train: 0.8516069092115113; test: 0.8389639589794442\n",
      "number of neighbors: 39; train: 0.8513480324330308; test: 0.838700357804356\n",
      "number of neighbors: 40; train: 0.8508214053099898; test: 0.8385283960163374\n",
      "number of neighbors: 41; train: 0.8516308949292286; test: 0.8389632478362211\n",
      "number of neighbors: 42; train: 0.8515076516370637; test: 0.8397852190524048\n",
      "number of neighbors: 43; train: 0.8513396017980956; test: 0.8397999446215606\n",
      "number of neighbors: 44; train: 0.85118638708722; test: 0.8396347754774325\n",
      "number of neighbors: 45; train: 0.8511473907548492; test: 0.8394651310354342\n",
      "number of neighbors: 46; train: 0.8511826210230116; test: 0.8396458962861121\n",
      "number of neighbors: 47; train: 0.850895633826315; test: 0.8395824267534433\n",
      "number of neighbors: 48; train: 0.850544351878749; test: 0.8400303427647804\n",
      "number of neighbors: 49; train: 0.8504612536279279; test: 0.8399202259149983\n",
      "number of neighbors: 50; train: 0.8504334573996244; test: 0.8398283045228574\n"
     ]
    }
   ],
   "source": [
    "def draw_learning_curve(param_values, train_scores, test_scores):\n",
    "\n",
    "    for i in param_values:\n",
    "        model = KNeighborsClassifier(n_neighbors=i)\n",
    "        model.fit(X_train, y_train)\n",
    "\n",
    "        # eval on train data\n",
    "        y_pred_train_proba = model.predict_proba(X_train)\n",
    "        train_auc = roc_auc_score(y_train, y_pred_train_proba[:,1])\n",
    "        train_scores.append(train_auc)\n",
    "\n",
    "        # eval on test data\n",
    "        y_pred_proba = model.predict_proba(X_test)\n",
    "        test_auc = roc_auc_score(y_test, y_pred_proba[:,1])\n",
    "        test_scores.append(test_auc)\n",
    "\n",
    "        print('number of neighbors: ' + str(i) + '; train: ' + str(train_auc) + '; test: '+ str(test_auc))\n",
    "\n",
    "param_values = [int(x) for x in np.linspace(1, 50, 50)]\n",
    "train_scores=[]\n",
    "test_scores=[]\n",
    "draw_learning_curve(param_values, train_scores, test_scores)"
   ]
  },
  {
   "cell_type": "code",
   "execution_count": 37,
   "id": "b4839d6d",
   "metadata": {},
   "outputs": [
    {
     "data": {
      "image/png": "[encoded data removed]",
      "text/plain": [
       "<Figure size 640x480 with 1 Axes>"
      ]
     },
     "metadata": {},
     "output_type": "display_data"
    }
   ],
   "source": [
    "plt.plot(param_values, train_scores, label='Train')\n",
    "plt.plot(param_values, test_scores, label='Test')\n",
    "plt.xlabel('k')\n",
    "plt.ylabel('AUC')\n",
    "plt.title('Learning Curve')\n",
    "plt.legend()\n",
    "plt.show()"
   ]
  }
 ],
 "metadata": {
  "kernelspec": {
   "display_name": "Python 3 (ipykernel)",
   "language": "python",
   "name": "python3"
  },
  "language_info": {
   "codemirror_mode": {
    "name": "ipython",
    "version": 3
   },
   "file_extension": ".py",
   "mimetype": "text/x-python",
   "name": "python",
   "nbconvert_exporter": "python",
   "pygments_lexer": "ipython3",
   "version": "3.11.4"
  }
 },
 "nbformat": 4,
 "nbformat_minor": 5
}
