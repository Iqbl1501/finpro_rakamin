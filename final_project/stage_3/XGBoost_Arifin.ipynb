{
  "cells": [
    {
      "cell_type": "markdown",
      "metadata": {
        "id": "6F3ykbS_3KId"
      },
      "source": [
        "## Load Data"
      ]
    },
    {
      "cell_type": "code",
      "execution_count": 73,
      "metadata": {
        "id": "TVzb0Anq3KIl"
      },
      "outputs": [],
      "source": [
        "from sklearn.model_selection import train_test_split\n",
        "from sklearn.datasets import load_digits\n",
        "from sklearn.linear_model import LogisticRegression\n",
        "from sklearn.neighbors import KNeighborsClassifier\n",
        "from sklearn.svm import SVC\n",
        "from sklearn.tree import DecisionTreeClassifier\n",
        "from sklearn.ensemble import RandomForestClassifier, GradientBoostingClassifier, AdaBoostClassifier\n",
        "from xgboost import XGBClassifier\n",
        "from catboost import CatBoostClassifier\n",
        "from sklearn.naive_bayes import GaussianNB\n",
        "from sklearn.metrics import accuracy_score\n",
        "\n",
        "import pandas as pd\n",
        "import matplotlib.pyplot as plt\n",
        "import pickle\n",
        "import seaborn as sns"
      ]
    },
    {
      "cell_type": "code",
      "execution_count": 3,
      "metadata": {
        "colab": {
          "base_uri": "https://localhost:8080/",
          "height": 206
        },
        "id": "wfmJsolo3KIo",
        "outputId": "5129d7c3-a1f1-4134-9e4a-ec31cb21674f"
      },
      "outputs": [
        {
          "data": {
            "text/html": [
              "<div>\n",
              "<style scoped>\n",
              "    .dataframe tbody tr th:only-of-type {\n",
              "        vertical-align: middle;\n",
              "    }\n",
              "\n",
              "    .dataframe tbody tr th {\n",
              "        vertical-align: top;\n",
              "    }\n",
              "\n",
              "    .dataframe thead th {\n",
              "        text-align: right;\n",
              "    }\n",
              "</style>\n",
              "<table border=\"1\" class=\"dataframe\">\n",
              "  <thead>\n",
              "    <tr style=\"text-align: right;\">\n",
              "      <th></th>\n",
              "      <th>Driving_License</th>\n",
              "      <th>Region_Code</th>\n",
              "      <th>Previously_Insured</th>\n",
              "      <th>Vehicle_Age</th>\n",
              "      <th>Vehicle_Damage</th>\n",
              "      <th>Policy_Sales_Channel</th>\n",
              "      <th>Age_Bin</th>\n",
              "      <th>Vehicle_Damage_Age_Interaction</th>\n",
              "      <th>Response</th>\n",
              "    </tr>\n",
              "  </thead>\n",
              "  <tbody>\n",
              "    <tr>\n",
              "      <th>0</th>\n",
              "      <td>1</td>\n",
              "      <td>46.0</td>\n",
              "      <td>1</td>\n",
              "      <td>0</td>\n",
              "      <td>0</td>\n",
              "      <td>152.0</td>\n",
              "      <td>0</td>\n",
              "      <td>0</td>\n",
              "      <td>0</td>\n",
              "    </tr>\n",
              "    <tr>\n",
              "      <th>1</th>\n",
              "      <td>1</td>\n",
              "      <td>46.0</td>\n",
              "      <td>1</td>\n",
              "      <td>0</td>\n",
              "      <td>0</td>\n",
              "      <td>152.0</td>\n",
              "      <td>0</td>\n",
              "      <td>0</td>\n",
              "      <td>0</td>\n",
              "    </tr>\n",
              "    <tr>\n",
              "      <th>2</th>\n",
              "      <td>1</td>\n",
              "      <td>46.0</td>\n",
              "      <td>1</td>\n",
              "      <td>1</td>\n",
              "      <td>1</td>\n",
              "      <td>26.0</td>\n",
              "      <td>2</td>\n",
              "      <td>2</td>\n",
              "      <td>0</td>\n",
              "    </tr>\n",
              "    <tr>\n",
              "      <th>3</th>\n",
              "      <td>1</td>\n",
              "      <td>18.0</td>\n",
              "      <td>1</td>\n",
              "      <td>0</td>\n",
              "      <td>0</td>\n",
              "      <td>152.0</td>\n",
              "      <td>1</td>\n",
              "      <td>0</td>\n",
              "      <td>0</td>\n",
              "    </tr>\n",
              "    <tr>\n",
              "      <th>4</th>\n",
              "      <td>1</td>\n",
              "      <td>11.0</td>\n",
              "      <td>0</td>\n",
              "      <td>1</td>\n",
              "      <td>1</td>\n",
              "      <td>122.0</td>\n",
              "      <td>2</td>\n",
              "      <td>2</td>\n",
              "      <td>0</td>\n",
              "    </tr>\n",
              "  </tbody>\n",
              "</table>\n",
              "</div>"
            ],
            "text/plain": [
              "   Driving_License  Region_Code  Previously_Insured  Vehicle_Age  \\\n",
              "0                1         46.0                   1            0   \n",
              "1                1         46.0                   1            0   \n",
              "2                1         46.0                   1            1   \n",
              "3                1         18.0                   1            0   \n",
              "4                1         11.0                   0            1   \n",
              "\n",
              "   Vehicle_Damage  Policy_Sales_Channel  Age_Bin  \\\n",
              "0               0                 152.0        0   \n",
              "1               0                 152.0        0   \n",
              "2               1                  26.0        2   \n",
              "3               0                 152.0        1   \n",
              "4               1                 122.0        2   \n",
              "\n",
              "   Vehicle_Damage_Age_Interaction  Response  \n",
              "0                               0         0  \n",
              "1                               0         0  \n",
              "2                               2         0  \n",
              "3                               0         0  \n",
              "4                               2         0  "
            ]
          },
          "execution_count": 3,
          "metadata": {},
          "output_type": "execute_result"
        }
      ],
      "source": [
        "df = pd.read_csv('../dataset/after_selection/train.csv')\n",
        "df.head()"
      ]
    },
    {
      "cell_type": "markdown",
      "metadata": {},
      "source": [
        "## 1. Modeling"
      ]
    },
    {
      "cell_type": "markdown",
      "metadata": {},
      "source": [
        "### Split Data Train & Test"
      ]
    },
    {
      "cell_type": "code",
      "execution_count": 4,
      "metadata": {
        "id": "iOdZuMeI3KIq"
      },
      "outputs": [],
      "source": [
        "X = df.drop(columns=['Response'])\n",
        "y = df[['Response']]"
      ]
    },
    {
      "cell_type": "code",
      "execution_count": 19,
      "metadata": {},
      "outputs": [],
      "source": [
        "# Split the data into training and testing sets\n",
        "X_train, X_test, y_train, y_test = train_test_split(X, y, test_size=0.2, random_state=42)"
      ]
    },
    {
      "cell_type": "markdown",
      "metadata": {},
      "source": [
        "### Algoritma Modeling"
      ]
    },
    {
      "cell_type": "markdown",
      "metadata": {},
      "source": [
        "#### Test All Classifier"
      ]
    },
    {
      "cell_type": "code",
      "execution_count": null,
      "metadata": {
        "colab": {
          "base_uri": "https://localhost:8080/"
        },
        "id": "nFlKuS5D3KIr",
        "outputId": "6329ccfc-f8be-4399-c83a-0163334d2489"
      },
      "outputs": [],
      "source": [
        "# # Define a list of classifiers to try\n",
        "# classifiers = [\n",
        "#     LogisticRegression(),\n",
        "#     KNeighborsClassifier(),\n",
        "#     SVC(),\n",
        "#     DecisionTreeClassifier(),\n",
        "#     RandomForestClassifier(),\n",
        "#     GaussianNB(),\n",
        "#     GradientBoostingClassifier(),\n",
        "#     AdaBoostClassifier(),\n",
        "#     XGBClassifier(),\n",
        "#     CatBoostClassifier(),\n",
        "# ]\n",
        "\n",
        "# # Create an empty DataFrame to store results\n",
        "# results_df = pd.DataFrame(columns=['Classifier', 'Accuracy'])\n",
        "\n",
        "# # Train and evaluate each classifier\n",
        "# for classifier in classifiers:\n",
        "#     try:\n",
        "#         # Train the classifier\n",
        "#         classifier.fit(X_train, y_train)\n",
        "\n",
        "#         # Make predictions on the test set\n",
        "#         y_pred = classifier.predict(X_test)\n",
        "\n",
        "#         # Evaluate the model performance\n",
        "#         accuracy = accuracy_score(y_test, y_pred)\n",
        "\n",
        "#         # Append results to the DataFrame\n",
        "#         results_df = results_df.append({'Classifier': classifier.__class__.__name__, 'Accuracy': accuracy}, ignore_index=True)\n",
        "\n",
        "#     except Exception as e:\n",
        "#         # Handle exceptions\n",
        "#         print(f\"Error with {classifier.__class__.__name__}: {e}\")\n",
        "\n",
        "# results_df.to_csv('../dataset/results/classifier_accuracy.csv', index=False)"
      ]
    },
    {
      "cell_type": "code",
      "execution_count": 7,
      "metadata": {
        "colab": {
          "base_uri": "https://localhost:8080/",
          "height": 363
        },
        "id": "FYw64O6k4sYz",
        "outputId": "a54af920-f348-4002-fd95-16fed1cb0da5"
      },
      "outputs": [
        {
          "data": {
            "text/html": [
              "<div>\n",
              "<style scoped>\n",
              "    .dataframe tbody tr th:only-of-type {\n",
              "        vertical-align: middle;\n",
              "    }\n",
              "\n",
              "    .dataframe tbody tr th {\n",
              "        vertical-align: top;\n",
              "    }\n",
              "\n",
              "    .dataframe thead th {\n",
              "        text-align: right;\n",
              "    }\n",
              "</style>\n",
              "<table border=\"1\" class=\"dataframe\">\n",
              "  <thead>\n",
              "    <tr style=\"text-align: right;\">\n",
              "      <th></th>\n",
              "      <th>Classifier</th>\n",
              "      <th>Accuracy</th>\n",
              "    </tr>\n",
              "  </thead>\n",
              "  <tbody>\n",
              "    <tr>\n",
              "      <th>9</th>\n",
              "      <td>CatBoostClassifier</td>\n",
              "      <td>0.797309</td>\n",
              "    </tr>\n",
              "    <tr>\n",
              "      <th>8</th>\n",
              "      <td>XGBClassifier</td>\n",
              "      <td>0.797088</td>\n",
              "    </tr>\n",
              "    <tr>\n",
              "      <th>7</th>\n",
              "      <td>AdaBoostClassifier</td>\n",
              "      <td>0.795538</td>\n",
              "    </tr>\n",
              "    <tr>\n",
              "      <th>6</th>\n",
              "      <td>GradientBoostingClassifier</td>\n",
              "      <td>0.792493</td>\n",
              "    </tr>\n",
              "    <tr>\n",
              "      <th>4</th>\n",
              "      <td>RandomForestClassifier</td>\n",
              "      <td>0.792216</td>\n",
              "    </tr>\n",
              "    <tr>\n",
              "      <th>3</th>\n",
              "      <td>DecisionTreeClassifier</td>\n",
              "      <td>0.789946</td>\n",
              "    </tr>\n",
              "    <tr>\n",
              "      <th>5</th>\n",
              "      <td>GaussianNB</td>\n",
              "      <td>0.784022</td>\n",
              "    </tr>\n",
              "    <tr>\n",
              "      <th>0</th>\n",
              "      <td>LogisticRegression</td>\n",
              "      <td>0.783081</td>\n",
              "    </tr>\n",
              "    <tr>\n",
              "      <th>2</th>\n",
              "      <td>SVC</td>\n",
              "      <td>0.774167</td>\n",
              "    </tr>\n",
              "    <tr>\n",
              "      <th>1</th>\n",
              "      <td>KNeighborsClassifier</td>\n",
              "      <td>0.767135</td>\n",
              "    </tr>\n",
              "  </tbody>\n",
              "</table>\n",
              "</div>"
            ],
            "text/plain": [
              "                   Classifier  Accuracy\n",
              "9          CatBoostClassifier  0.797309\n",
              "8               XGBClassifier  0.797088\n",
              "7          AdaBoostClassifier  0.795538\n",
              "6  GradientBoostingClassifier  0.792493\n",
              "4      RandomForestClassifier  0.792216\n",
              "3      DecisionTreeClassifier  0.789946\n",
              "5                  GaussianNB  0.784022\n",
              "0          LogisticRegression  0.783081\n",
              "2                         SVC  0.774167\n",
              "1        KNeighborsClassifier  0.767135"
            ]
          },
          "execution_count": 7,
          "metadata": {},
          "output_type": "execute_result"
        }
      ],
      "source": [
        "results_df = pd.read_csv('../dataset/results/classifier_accuracy.csv')\n",
        "results_df.sort_values(by='Accuracy', ascending=False)"
      ]
    },
    {
      "cell_type": "markdown",
      "metadata": {},
      "source": [
        "#### Evaluation Method"
      ]
    },
    {
      "cell_type": "code",
      "execution_count": 82,
      "metadata": {},
      "outputs": [],
      "source": [
        "from sklearn.metrics import accuracy_score, precision_score, recall_score, f1_score, roc_auc_score\n",
        "from sklearn.model_selection import cross_validate, StratifiedKFold\n",
        "\n",
        "\n",
        "def eval_classification(model, X_train, X_test, y_train, y_test, n_splits=5):\n",
        "    # Evaluate on the test set\n",
        "    y_pred_test = model.predict(X_test)\n",
        "\n",
        "    # StratifiedKFold for cross-validation with stratified sampling\n",
        "    cv = StratifiedKFold(n_splits=n_splits, shuffle=True, random_state=42)\n",
        "\n",
        "    # Perform cross-validation\n",
        "    cv_test_results = cross_validate(model, X_test, y_test, scoring=['roc_auc'],\n",
        "                                cv=cv, return_train_score=False)\n",
        "    cv_train_results = cross_validate(model, X_train, y_train, scoring=['roc_auc'],\n",
        "                                cv=cv, return_train_score=False)\n",
        "    \n",
        "\n",
        "    # Display metrics for the training set\n",
        "    print(\"Metrics for the Test Set:\")\n",
        "    print(\"Accuracy: %.2f\" % accuracy_score(y_test, y_pred_test))\n",
        "    print(\"Precision: %.2f\" % precision_score(y_test, y_pred_test))\n",
        "    print(\"Recall: %.2f\" % recall_score(y_test, y_pred_test))\n",
        "    print(\"F1-Score: %.2f\" % f1_score(y_test, y_pred_test))\n",
        "    print()\n",
        "\n",
        "    # Display cross-validation results\n",
        "    print(\"Metrics Using Cross Validation:\")\n",
        "    print(f\"Mean ROC-AUC (Test): {cv_test_results['test_roc_auc'].mean():.2f}\")\n",
        "    print(f\"Std ROC-AUC (Test): {cv_test_results['test_roc_auc'].std():.2f}\")\n",
        "    print()\n",
        "    print(f\"Mean ROC-AUC (Train): {cv_train_results['test_roc_auc'].mean():.2f}\")\n",
        "    print(f\"Std ROC-AUC (Train): {cv_train_results['test_roc_auc'].std():.2f}\")"
      ]
    },
    {
      "cell_type": "markdown",
      "metadata": {},
      "source": [
        "#### XGBoost"
      ]
    },
    {
      "cell_type": "code",
      "execution_count": 78,
      "metadata": {},
      "outputs": [],
      "source": [
        "base_model = XGBClassifier()\n",
        "base_model.fit(X_train, y_train)"
      ]
    },
    {
      "cell_type": "code",
      "execution_count": 83,
      "metadata": {},
      "outputs": [
        {
          "name": "stdout",
          "output_type": "stream",
          "text": [
            "Metrics for the Test Set:\n",
            "Accuracy: 0.80\n",
            "Precision: 0.73\n",
            "Recall: 0.93\n",
            "F1-Score: 0.82\n",
            "\n",
            "Metrics Using Cross Validation:\n",
            "Mean ROC-AUC (Test): 0.83\n",
            "Std ROC-AUC (Test): 0.01\n",
            "\n",
            "Mean ROC-AUC (Train): 0.85\n",
            "Std ROC-AUC (Train): 0.00\n"
          ]
        }
      ],
      "source": [
        "eval_classification(base_model, X_train, X_test, y_train, y_test)"
      ]
    },
    {
      "cell_type": "markdown",
      "metadata": {},
      "source": [
        "### Hyperparameter Tunning"
      ]
    },
    {
      "cell_type": "code",
      "execution_count": 88,
      "metadata": {},
      "outputs": [],
      "source": [
        "from sklearn.model_selection import GridSearchCV, train_test_split\n",
        "from sklearn.metrics import roc_auc_score"
      ]
    },
    {
      "cell_type": "code",
      "execution_count": 84,
      "metadata": {},
      "outputs": [],
      "source": [
        "xgb_model = XGBClassifier()"
      ]
    },
    {
      "cell_type": "code",
      "execution_count": 85,
      "metadata": {},
      "outputs": [],
      "source": [
        "# Define the hyperparameters\n",
        "param_grid = {\n",
        "    'n_estimators': [100, 200, 300],\n",
        "    'learning_rate': [0.01, 0.1, 0.2],\n",
        "    'max_depth': [3, 4, 5],\n",
        "    'subsample': [0.8, 0.9, 1.0],\n",
        "    'colsample_bytree': [0.8, 0.9, 1.0],\n",
        "}"
      ]
    },
    {
      "cell_type": "code",
      "execution_count": 89,
      "metadata": {},
      "outputs": [
        {
          "name": "stdout",
          "output_type": "stream",
          "text": [
            "Fitting 3 folds for each of 243 candidates, totalling 729 fits\n",
            "Best Hyperparameters: {'colsample_bytree': 1.0, 'learning_rate': 0.2, 'max_depth': 3, 'n_estimators': 300, 'subsample': 1.0}\n"
          ]
        }
      ],
      "source": [
        "# Create GridSearchCV\n",
        "grid_search = GridSearchCV(estimator=xgb_model, param_grid=param_grid, scoring='roc_auc', cv=3, verbose=1)\n",
        "\n",
        "# Perform grid search on the training data\n",
        "grid_search.fit(X_train, y_train)\n",
        "\n",
        "# Print the best hyperparameters\n",
        "print(\"Best Hyperparameters:\", grid_search.best_params_)"
      ]
    },
    {
      "cell_type": "code",
      "execution_count": 90,
      "metadata": {},
      "outputs": [],
      "source": [
        "# Get the best model from grid search\n",
        "best_xgb_model = grid_search.best_estimator_"
      ]
    },
    {
      "cell_type": "markdown",
      "metadata": {},
      "source": [
        "### Best Result"
      ]
    },
    {
      "cell_type": "code",
      "execution_count": 91,
      "metadata": {},
      "outputs": [
        {
          "name": "stdout",
          "output_type": "stream",
          "text": [
            "Metrics for the Test Set:\n",
            "Accuracy: 0.80\n",
            "Precision: 0.73\n",
            "Recall: 0.94\n"
          ]
        },
        {
          "name": "stdout",
          "output_type": "stream",
          "text": [
            "F1-Score: 0.82\n",
            "\n",
            "Metrics Using Cross Validation:\n",
            "Mean ROC-AUC (Test): 0.84\n",
            "Std ROC-AUC (Test): 0.01\n",
            "\n",
            "Mean ROC-AUC (Train): 0.85\n",
            "Std ROC-AUC (Train): 0.00\n"
          ]
        }
      ],
      "source": [
        "eval_classification(best_xgb_model, X_train, X_test, y_train, y_test)"
      ]
    },
    {
      "cell_type": "code",
      "execution_count": 92,
      "metadata": {},
      "outputs": [],
      "source": [
        "filename = './models/xgboost_model.sav'\n",
        "pickle.dump(best_xgb_model, open(filename, 'wb'))"
      ]
    },
    {
      "cell_type": "markdown",
      "metadata": {},
      "source": [
        "## Feature Importance"
      ]
    },
    {
      "cell_type": "code",
      "execution_count": 93,
      "metadata": {},
      "outputs": [
        {
          "name": "stdout",
          "output_type": "stream",
          "text": [
            "                          Feature  Importance\n",
            "1                     Region_Code    0.002015\n",
            "3                     Vehicle_Age    0.003744\n",
            "5            Policy_Sales_Channel    0.004191\n",
            "0                 Driving_License    0.004207\n",
            "7  Vehicle_Damage_Age_Interaction    0.019673\n",
            "6                         Age_Bin    0.022333\n",
            "2              Previously_Insured    0.378895\n",
            "4                  Vehicle_Damage    0.564942\n"
          ]
        },
        {
          "data": {
            "image/png": "[encoded data removed]",
            "text/plain": [
              "<Figure size 1000x600 with 1 Axes>"
            ]
          },
          "metadata": {},
          "output_type": "display_data"
        }
      ],
      "source": [
        "# Get feature importances\n",
        "feature_importances = best_xgb_model.feature_importances_\n",
        "\n",
        "# Get feature names (optional)\n",
        "feature_names = [f'Feature {i}' for i in range(X.shape[1])]\n",
        "\n",
        "# Create a DataFrame for better visualization (optional)\n",
        "feature_importance_df = pd.DataFrame({'Feature': X.columns, 'Importance': feature_importances})\n",
        "\n",
        "# Sort the features by importance\n",
        "feature_importance_df = feature_importance_df.sort_values(by='Importance', ascending=True)\n",
        "\n",
        "# Print or plot the feature importance\n",
        "print(feature_importance_df)\n",
        "\n",
        "# Plot feature importance\n",
        "plt.figure(figsize=(10, 6))\n",
        "plt.barh(feature_importance_df['Feature'], feature_importance_df['Importance'])\n",
        "plt.xlabel('Importance')\n",
        "plt.ylabel('Feature')\n",
        "plt.title('XGBoost Feature Importance')\n",
        "plt.show()"
      ]
    }
  ],
  "metadata": {
    "colab": {
      "provenance": []
    },
    "kernelspec": {
      "display_name": "Python 3",
      "language": "python",
      "name": "python3"
    },
    "language_info": {
      "codemirror_mode": {
        "name": "ipython",
        "version": 3
      },
      "file_extension": ".py",
      "mimetype": "text/x-python",
      "name": "python",
      "nbconvert_exporter": "python",
      "pygments_lexer": "ipython3",
      "version": "3.11.6"
    }
  },
  "nbformat": 4,
  "nbformat_minor": 0
}
